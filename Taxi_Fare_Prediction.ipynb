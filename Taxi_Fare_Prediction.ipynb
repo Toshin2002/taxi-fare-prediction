{
 "cells": [
  {
   "cell_type": "code",
   "execution_count": 1,
   "id": "cf84dcca",
   "metadata": {
    "_cell_guid": "b1076dfc-b9ad-4769-8c92-a6c4dae69d19",
    "_uuid": "8f2839f25d086af736a60e9eeb907d3b93b6e0e5",
    "execution": {
     "iopub.execute_input": "2023-11-29T19:45:57.331238Z",
     "iopub.status.busy": "2023-11-29T19:45:57.330242Z",
     "iopub.status.idle": "2023-11-29T19:46:00.193471Z",
     "shell.execute_reply": "2023-11-29T19:46:00.191960Z"
    },
    "papermill": {
     "duration": 2.893056,
     "end_time": "2023-11-29T19:46:00.196755",
     "exception": false,
     "start_time": "2023-11-29T19:45:57.303699",
     "status": "completed"
    },
    "tags": []
   },
   "outputs": [
    {
     "name": "stdout",
     "output_type": "stream",
     "text": [
      "/kaggle/input/taxi-fare-guru-total-amount-prediction-challenge/sample.csv.csv\n",
      "/kaggle/input/taxi-fare-guru-total-amount-prediction-challenge/train.csv\n",
      "/kaggle/input/taxi-fare-guru-total-amount-prediction-challenge/test.csv\n"
     ]
    }
   ],
   "source": [
    "# This Python 3 environment comes with many helpful analytics libraries installed\n",
    "# It is defined by the kaggle/python Docker image: https://github.com/kaggle/docker-python\n",
    "# For example, here's several helpful packages to load\n",
    "\n",
    "import numpy as np \n",
    "import pandas as pd \n",
    "import matplotlib.pyplot as plt\n",
    "from sklearn.metrics import r2_score\n",
    "\n",
    "import os\n",
    "for dirname, _, filenames in os.walk('/kaggle/input'):\n",
    "    for filename in filenames:\n",
    "        print(os.path.join(dirname, filename))\n",
    "\n",
    "# You can write up to 20GB to the current directory (/kaggle/working/) that gets preserved as output when you create a version using \"Save & Run All\" \n",
    "# You can also write temporary files to /kaggle/temp/, but they won't be saved outside of the current session"
   ]
  },
  {
   "cell_type": "code",
   "execution_count": 2,
   "id": "0b4ca214",
   "metadata": {
    "execution": {
     "iopub.execute_input": "2023-11-29T19:46:00.243577Z",
     "iopub.status.busy": "2023-11-29T19:46:00.242273Z",
     "iopub.status.idle": "2023-11-29T19:46:01.387001Z",
     "shell.execute_reply": "2023-11-29T19:46:01.385525Z"
    },
    "papermill": {
     "duration": 1.171394,
     "end_time": "2023-11-29T19:46:01.390280",
     "exception": false,
     "start_time": "2023-11-29T19:46:00.218886",
     "status": "completed"
    },
    "tags": []
   },
   "outputs": [
    {
     "data": {
      "text/plain": [
       "(175000, 17)"
      ]
     },
     "execution_count": 2,
     "metadata": {},
     "output_type": "execute_result"
    }
   ],
   "source": [
    "train_data= pd.read_csv(\"/kaggle/input/taxi-fare-guru-total-amount-prediction-challenge/train.csv\")\n",
    "train_data.shape"
   ]
  },
  {
   "cell_type": "code",
   "execution_count": 3,
   "id": "1a3105e4",
   "metadata": {
    "execution": {
     "iopub.execute_input": "2023-11-29T19:46:01.438106Z",
     "iopub.status.busy": "2023-11-29T19:46:01.437662Z",
     "iopub.status.idle": "2023-11-29T19:46:01.706371Z",
     "shell.execute_reply": "2023-11-29T19:46:01.704973Z"
    },
    "papermill": {
     "duration": 0.296251,
     "end_time": "2023-11-29T19:46:01.709636",
     "exception": false,
     "start_time": "2023-11-29T19:46:01.413385",
     "status": "completed"
    },
    "tags": []
   },
   "outputs": [
    {
     "data": {
      "text/plain": [
       "(50000, 16)"
      ]
     },
     "execution_count": 3,
     "metadata": {},
     "output_type": "execute_result"
    }
   ],
   "source": [
    "test_data = pd.read_csv(\"/kaggle/input/taxi-fare-guru-total-amount-prediction-challenge/test.csv\")\n",
    "test_data.shape"
   ]
  },
  {
   "cell_type": "code",
   "execution_count": 4,
   "id": "268da45a",
   "metadata": {
    "execution": {
     "iopub.execute_input": "2023-11-29T19:46:01.758073Z",
     "iopub.status.busy": "2023-11-29T19:46:01.757527Z",
     "iopub.status.idle": "2023-11-29T19:46:01.775501Z",
     "shell.execute_reply": "2023-11-29T19:46:01.773891Z"
    },
    "papermill": {
     "duration": 0.044979,
     "end_time": "2023-11-29T19:46:01.778274",
     "exception": false,
     "start_time": "2023-11-29T19:46:01.733295",
     "status": "completed"
    },
    "tags": []
   },
   "outputs": [
    {
     "data": {
      "text/plain": [
       "VendorID                   int64\n",
       "tpep_pickup_datetime      object\n",
       "tpep_dropoff_datetime     object\n",
       "passenger_count          float64\n",
       "trip_distance            float64\n",
       "RatecodeID               float64\n",
       "store_and_fwd_flag        object\n",
       "PULocationID               int64\n",
       "DOLocationID               int64\n",
       "payment_type              object\n",
       "extra                    float64\n",
       "tip_amount               float64\n",
       "tolls_amount             float64\n",
       "improvement_surcharge    float64\n",
       "total_amount             float64\n",
       "congestion_surcharge     float64\n",
       "Airport_fee              float64\n",
       "dtype: object"
      ]
     },
     "execution_count": 4,
     "metadata": {},
     "output_type": "execute_result"
    }
   ],
   "source": [
    "train_data.dtypes"
   ]
  },
  {
   "cell_type": "code",
   "execution_count": 5,
   "id": "b0185aad",
   "metadata": {
    "execution": {
     "iopub.execute_input": "2023-11-29T19:46:01.828739Z",
     "iopub.status.busy": "2023-11-29T19:46:01.828225Z",
     "iopub.status.idle": "2023-11-29T19:46:01.918592Z",
     "shell.execute_reply": "2023-11-29T19:46:01.917249Z"
    },
    "papermill": {
     "duration": 0.117694,
     "end_time": "2023-11-29T19:46:01.921538",
     "exception": false,
     "start_time": "2023-11-29T19:46:01.803844",
     "status": "completed"
    },
    "tags": []
   },
   "outputs": [
    {
     "data": {
      "text/plain": [
       "VendorID                    0\n",
       "tpep_pickup_datetime        0\n",
       "tpep_dropoff_datetime       0\n",
       "passenger_count          6077\n",
       "trip_distance               0\n",
       "RatecodeID               6077\n",
       "store_and_fwd_flag       6077\n",
       "PULocationID                0\n",
       "DOLocationID                0\n",
       "payment_type                0\n",
       "extra                       0\n",
       "tip_amount                  0\n",
       "tolls_amount                0\n",
       "improvement_surcharge       0\n",
       "total_amount                0\n",
       "congestion_surcharge     6077\n",
       "Airport_fee              6077\n",
       "dtype: int64"
      ]
     },
     "execution_count": 5,
     "metadata": {},
     "output_type": "execute_result"
    }
   ],
   "source": [
    "train_data.isnull().sum()"
   ]
  },
  {
   "cell_type": "code",
   "execution_count": 6,
   "id": "39b88683",
   "metadata": {
    "execution": {
     "iopub.execute_input": "2023-11-29T19:46:01.969438Z",
     "iopub.status.busy": "2023-11-29T19:46:01.969032Z",
     "iopub.status.idle": "2023-11-29T19:46:02.008909Z",
     "shell.execute_reply": "2023-11-29T19:46:02.007701Z"
    },
    "papermill": {
     "duration": 0.067005,
     "end_time": "2023-11-29T19:46:02.011476",
     "exception": false,
     "start_time": "2023-11-29T19:46:01.944471",
     "status": "completed"
    },
    "tags": []
   },
   "outputs": [
    {
     "data": {
      "text/html": [
       "<div>\n",
       "<style scoped>\n",
       "    .dataframe tbody tr th:only-of-type {\n",
       "        vertical-align: middle;\n",
       "    }\n",
       "\n",
       "    .dataframe tbody tr th {\n",
       "        vertical-align: top;\n",
       "    }\n",
       "\n",
       "    .dataframe thead th {\n",
       "        text-align: right;\n",
       "    }\n",
       "</style>\n",
       "<table border=\"1\" class=\"dataframe\">\n",
       "  <thead>\n",
       "    <tr style=\"text-align: right;\">\n",
       "      <th></th>\n",
       "      <th>VendorID</th>\n",
       "      <th>tpep_pickup_datetime</th>\n",
       "      <th>tpep_dropoff_datetime</th>\n",
       "      <th>passenger_count</th>\n",
       "      <th>trip_distance</th>\n",
       "      <th>RatecodeID</th>\n",
       "      <th>store_and_fwd_flag</th>\n",
       "      <th>PULocationID</th>\n",
       "      <th>DOLocationID</th>\n",
       "      <th>payment_type</th>\n",
       "      <th>extra</th>\n",
       "      <th>tip_amount</th>\n",
       "      <th>tolls_amount</th>\n",
       "      <th>improvement_surcharge</th>\n",
       "      <th>total_amount</th>\n",
       "      <th>congestion_surcharge</th>\n",
       "      <th>Airport_fee</th>\n",
       "    </tr>\n",
       "  </thead>\n",
       "  <tbody>\n",
       "    <tr>\n",
       "      <th>0</th>\n",
       "      <td>1</td>\n",
       "      <td>2023-06-28 17:20:21</td>\n",
       "      <td>2023-06-28 16:34:45</td>\n",
       "      <td>1.0</td>\n",
       "      <td>2.14</td>\n",
       "      <td>1.0</td>\n",
       "      <td>N</td>\n",
       "      <td>120</td>\n",
       "      <td>9</td>\n",
       "      <td>Credit Card</td>\n",
       "      <td>2.5</td>\n",
       "      <td>7.165589</td>\n",
       "      <td>0.0</td>\n",
       "      <td>1.0</td>\n",
       "      <td>20.64</td>\n",
       "      <td>2.5</td>\n",
       "      <td>0.0</td>\n",
       "    </tr>\n",
       "    <tr>\n",
       "      <th>1</th>\n",
       "      <td>0</td>\n",
       "      <td>2023-06-29 23:05:01</td>\n",
       "      <td>2023-06-29 22:01:35</td>\n",
       "      <td>1.0</td>\n",
       "      <td>2.70</td>\n",
       "      <td>1.0</td>\n",
       "      <td>N</td>\n",
       "      <td>15</td>\n",
       "      <td>215</td>\n",
       "      <td>Credit Card</td>\n",
       "      <td>3.5</td>\n",
       "      <td>6.067401</td>\n",
       "      <td>0.0</td>\n",
       "      <td>1.0</td>\n",
       "      <td>25.55</td>\n",
       "      <td>2.5</td>\n",
       "      <td>0.0</td>\n",
       "    </tr>\n",
       "    <tr>\n",
       "      <th>2</th>\n",
       "      <td>1</td>\n",
       "      <td>2023-06-30 10:19:31</td>\n",
       "      <td>2023-06-30 11:13:10</td>\n",
       "      <td>1.0</td>\n",
       "      <td>1.15</td>\n",
       "      <td>1.0</td>\n",
       "      <td>N</td>\n",
       "      <td>167</td>\n",
       "      <td>223</td>\n",
       "      <td>Credit Card</td>\n",
       "      <td>0.0</td>\n",
       "      <td>4.111547</td>\n",
       "      <td>0.0</td>\n",
       "      <td>1.0</td>\n",
       "      <td>17.64</td>\n",
       "      <td>2.5</td>\n",
       "      <td>0.0</td>\n",
       "    </tr>\n",
       "    <tr>\n",
       "      <th>3</th>\n",
       "      <td>0</td>\n",
       "      <td>2023-06-29 13:23:09</td>\n",
       "      <td>2023-06-29 14:20:01</td>\n",
       "      <td>1.0</td>\n",
       "      <td>0.40</td>\n",
       "      <td>1.0</td>\n",
       "      <td>N</td>\n",
       "      <td>128</td>\n",
       "      <td>239</td>\n",
       "      <td>Credit Card</td>\n",
       "      <td>2.5</td>\n",
       "      <td>6.411079</td>\n",
       "      <td>0.0</td>\n",
       "      <td>1.0</td>\n",
       "      <td>12.80</td>\n",
       "      <td>2.5</td>\n",
       "      <td>0.0</td>\n",
       "    </tr>\n",
       "    <tr>\n",
       "      <th>4</th>\n",
       "      <td>1</td>\n",
       "      <td>2023-06-29 22:03:32</td>\n",
       "      <td>2023-06-29 22:22:22</td>\n",
       "      <td>3.0</td>\n",
       "      <td>1.10</td>\n",
       "      <td>1.0</td>\n",
       "      <td>N</td>\n",
       "      <td>203</td>\n",
       "      <td>52</td>\n",
       "      <td>Credit Card</td>\n",
       "      <td>1.0</td>\n",
       "      <td>4.769377</td>\n",
       "      <td>0.0</td>\n",
       "      <td>1.0</td>\n",
       "      <td>18.00</td>\n",
       "      <td>2.5</td>\n",
       "      <td>0.0</td>\n",
       "    </tr>\n",
       "    <tr>\n",
       "      <th>5</th>\n",
       "      <td>0</td>\n",
       "      <td>2023-06-29 16:31:14</td>\n",
       "      <td>2023-06-29 16:29:06</td>\n",
       "      <td>1.0</td>\n",
       "      <td>0.00</td>\n",
       "      <td>99.0</td>\n",
       "      <td>N</td>\n",
       "      <td>225</td>\n",
       "      <td>256</td>\n",
       "      <td>Credit Card</td>\n",
       "      <td>0.0</td>\n",
       "      <td>1.507831</td>\n",
       "      <td>0.0</td>\n",
       "      <td>1.0</td>\n",
       "      <td>44.70</td>\n",
       "      <td>0.0</td>\n",
       "      <td>0.0</td>\n",
       "    </tr>\n",
       "    <tr>\n",
       "      <th>6</th>\n",
       "      <td>1</td>\n",
       "      <td>2023-06-30 12:54:57</td>\n",
       "      <td>2023-06-30 11:52:20</td>\n",
       "      <td>1.0</td>\n",
       "      <td>1.33</td>\n",
       "      <td>1.0</td>\n",
       "      <td>N</td>\n",
       "      <td>214</td>\n",
       "      <td>240</td>\n",
       "      <td>Cash</td>\n",
       "      <td>0.0</td>\n",
       "      <td>0.094334</td>\n",
       "      <td>0.0</td>\n",
       "      <td>1.0</td>\n",
       "      <td>18.20</td>\n",
       "      <td>2.5</td>\n",
       "      <td>0.0</td>\n",
       "    </tr>\n",
       "    <tr>\n",
       "      <th>7</th>\n",
       "      <td>1</td>\n",
       "      <td>2023-06-30 17:16:44</td>\n",
       "      <td>2023-06-30 17:40:34</td>\n",
       "      <td>1.0</td>\n",
       "      <td>0.45</td>\n",
       "      <td>1.0</td>\n",
       "      <td>N</td>\n",
       "      <td>176</td>\n",
       "      <td>227</td>\n",
       "      <td>Cash</td>\n",
       "      <td>2.5</td>\n",
       "      <td>0.727105</td>\n",
       "      <td>0.0</td>\n",
       "      <td>1.0</td>\n",
       "      <td>13.70</td>\n",
       "      <td>2.5</td>\n",
       "      <td>0.0</td>\n",
       "    </tr>\n",
       "    <tr>\n",
       "      <th>8</th>\n",
       "      <td>0</td>\n",
       "      <td>2023-06-30 21:52:44</td>\n",
       "      <td>2023-06-30 21:54:13</td>\n",
       "      <td>3.0</td>\n",
       "      <td>3.80</td>\n",
       "      <td>1.0</td>\n",
       "      <td>N</td>\n",
       "      <td>196</td>\n",
       "      <td>139</td>\n",
       "      <td>Credit Card</td>\n",
       "      <td>3.5</td>\n",
       "      <td>6.590745</td>\n",
       "      <td>0.0</td>\n",
       "      <td>1.0</td>\n",
       "      <td>35.60</td>\n",
       "      <td>2.5</td>\n",
       "      <td>0.0</td>\n",
       "    </tr>\n",
       "    <tr>\n",
       "      <th>9</th>\n",
       "      <td>1</td>\n",
       "      <td>2023-06-29 11:12:12</td>\n",
       "      <td>2023-06-29 09:39:24</td>\n",
       "      <td>1.0</td>\n",
       "      <td>2.50</td>\n",
       "      <td>1.0</td>\n",
       "      <td>N</td>\n",
       "      <td>138</td>\n",
       "      <td>196</td>\n",
       "      <td>Credit Card</td>\n",
       "      <td>0.0</td>\n",
       "      <td>6.091603</td>\n",
       "      <td>0.0</td>\n",
       "      <td>1.0</td>\n",
       "      <td>23.10</td>\n",
       "      <td>2.5</td>\n",
       "      <td>0.0</td>\n",
       "    </tr>\n",
       "  </tbody>\n",
       "</table>\n",
       "</div>"
      ],
      "text/plain": [
       "   VendorID tpep_pickup_datetime tpep_dropoff_datetime  passenger_count  \\\n",
       "0         1  2023-06-28 17:20:21   2023-06-28 16:34:45              1.0   \n",
       "1         0  2023-06-29 23:05:01   2023-06-29 22:01:35              1.0   \n",
       "2         1  2023-06-30 10:19:31   2023-06-30 11:13:10              1.0   \n",
       "3         0  2023-06-29 13:23:09   2023-06-29 14:20:01              1.0   \n",
       "4         1  2023-06-29 22:03:32   2023-06-29 22:22:22              3.0   \n",
       "5         0  2023-06-29 16:31:14   2023-06-29 16:29:06              1.0   \n",
       "6         1  2023-06-30 12:54:57   2023-06-30 11:52:20              1.0   \n",
       "7         1  2023-06-30 17:16:44   2023-06-30 17:40:34              1.0   \n",
       "8         0  2023-06-30 21:52:44   2023-06-30 21:54:13              3.0   \n",
       "9         1  2023-06-29 11:12:12   2023-06-29 09:39:24              1.0   \n",
       "\n",
       "   trip_distance  RatecodeID store_and_fwd_flag  PULocationID  DOLocationID  \\\n",
       "0           2.14         1.0                  N           120             9   \n",
       "1           2.70         1.0                  N            15           215   \n",
       "2           1.15         1.0                  N           167           223   \n",
       "3           0.40         1.0                  N           128           239   \n",
       "4           1.10         1.0                  N           203            52   \n",
       "5           0.00        99.0                  N           225           256   \n",
       "6           1.33         1.0                  N           214           240   \n",
       "7           0.45         1.0                  N           176           227   \n",
       "8           3.80         1.0                  N           196           139   \n",
       "9           2.50         1.0                  N           138           196   \n",
       "\n",
       "  payment_type  extra  tip_amount  tolls_amount  improvement_surcharge  \\\n",
       "0  Credit Card    2.5    7.165589           0.0                    1.0   \n",
       "1  Credit Card    3.5    6.067401           0.0                    1.0   \n",
       "2  Credit Card    0.0    4.111547           0.0                    1.0   \n",
       "3  Credit Card    2.5    6.411079           0.0                    1.0   \n",
       "4  Credit Card    1.0    4.769377           0.0                    1.0   \n",
       "5  Credit Card    0.0    1.507831           0.0                    1.0   \n",
       "6         Cash    0.0    0.094334           0.0                    1.0   \n",
       "7         Cash    2.5    0.727105           0.0                    1.0   \n",
       "8  Credit Card    3.5    6.590745           0.0                    1.0   \n",
       "9  Credit Card    0.0    6.091603           0.0                    1.0   \n",
       "\n",
       "   total_amount  congestion_surcharge  Airport_fee  \n",
       "0         20.64                   2.5          0.0  \n",
       "1         25.55                   2.5          0.0  \n",
       "2         17.64                   2.5          0.0  \n",
       "3         12.80                   2.5          0.0  \n",
       "4         18.00                   2.5          0.0  \n",
       "5         44.70                   0.0          0.0  \n",
       "6         18.20                   2.5          0.0  \n",
       "7         13.70                   2.5          0.0  \n",
       "8         35.60                   2.5          0.0  \n",
       "9         23.10                   2.5          0.0  "
      ]
     },
     "execution_count": 6,
     "metadata": {},
     "output_type": "execute_result"
    }
   ],
   "source": [
    "train_data.head(10)\n",
    "# print(train_data.columns)"
   ]
  },
  {
   "cell_type": "code",
   "execution_count": 7,
   "id": "d55e1b69",
   "metadata": {
    "execution": {
     "iopub.execute_input": "2023-11-29T19:46:02.060328Z",
     "iopub.status.busy": "2023-11-29T19:46:02.059901Z",
     "iopub.status.idle": "2023-11-29T19:46:02.167269Z",
     "shell.execute_reply": "2023-11-29T19:46:02.165416Z"
    },
    "papermill": {
     "duration": 0.136018,
     "end_time": "2023-11-29T19:46:02.170622",
     "exception": false,
     "start_time": "2023-11-29T19:46:02.034604",
     "status": "completed"
    },
    "tags": []
   },
   "outputs": [
    {
     "name": "stdout",
     "output_type": "stream",
     "text": [
      "store_and_fwd_flag\n",
      "N    167729\n",
      "Y      1194\n",
      "Name: count, dtype: int64\n",
      "--------------------------------------------------------\n",
      "PULocationID\n",
      "264    730\n",
      "85     725\n",
      "43     719\n",
      "162    718\n",
      "97     717\n",
      "      ... \n",
      "254    613\n",
      "94     613\n",
      "153    611\n",
      "179    606\n",
      "252    606\n",
      "Name: count, Length: 264, dtype: int64\n",
      "--------------------------------------------------------\n",
      "DOLocationID\n",
      "263    759\n",
      "127    736\n",
      "37     729\n",
      "115    726\n",
      "254    721\n",
      "      ... \n",
      "9      611\n",
      "140    610\n",
      "195    607\n",
      "187    606\n",
      "183    605\n",
      "Name: count, Length: 264, dtype: int64\n",
      "--------------------------------------------------------\n",
      "tolls_amount\n",
      "0.00     159328\n",
      "6.55      14011\n",
      "12.75       254\n",
      "14.75       209\n",
      "3.00        132\n",
      "          ...  \n",
      "63.00         1\n",
      "18.64         1\n",
      "15.10         1\n",
      "20.50         1\n",
      "14.99         1\n",
      "Name: count, Length: 214, dtype: int64\n",
      "--------------------------------------------------------\n",
      "improvement_surcharge\n",
      " 1.0    173145\n",
      "-1.0      1725\n",
      " 0.3        85\n",
      " 0.0        45\n",
      "Name: count, dtype: int64\n",
      "--------------------------------------------------------\n",
      "congestion_surcharge\n",
      " 2.5    153212\n",
      " 0.0     14325\n",
      "-2.5      1386\n",
      "Name: count, dtype: int64\n",
      "--------------------------------------------------------\n",
      "RatecodeID\n",
      "1.0     158652\n",
      "2.0       7314\n",
      "5.0       1036\n",
      "99.0       748\n",
      "3.0        727\n",
      "4.0        446\n",
      "Name: count, dtype: int64\n",
      "--------------------------------------------------------\n",
      "extra\n",
      " 0.00     51247\n",
      " 2.50     50180\n",
      " 1.00     35614\n",
      " 5.00     17280\n",
      " 3.50     11839\n",
      " 7.50      2351\n",
      " 6.00      1774\n",
      " 4.25       871\n",
      " 9.25       812\n",
      "-1.00       514\n",
      "-2.50       472\n",
      " 1.75       413\n",
      " 2.75       375\n",
      " 6.75       284\n",
      " 11.75      258\n",
      " 10.25      231\n",
      " 7.75       199\n",
      " 10.00       96\n",
      "-5.00        76\n",
      " 8.50        56\n",
      "-7.50        22\n",
      "-6.00        21\n",
      " 5.25         8\n",
      " 0.75         2\n",
      " 3.25         2\n",
      " 0.25         1\n",
      " 0.11         1\n",
      " 1.50         1\n",
      "Name: count, dtype: int64\n",
      "--------------------------------------------------------\n",
      "payment_type\n",
      "Credit Card    135257\n",
      "Cash            30141\n",
      "Wallet           6077\n",
      "unknown          2333\n",
      "UPI              1192\n",
      "Name: count, dtype: int64\n"
     ]
    }
   ],
   "source": [
    "print(train_data['store_and_fwd_flag'].value_counts())\n",
    "print(\"--------------------------------------------------------\")\n",
    "print(train_data['PULocationID'].value_counts())\n",
    "print(\"--------------------------------------------------------\")\n",
    "print(train_data['DOLocationID'].value_counts())\n",
    "print(\"--------------------------------------------------------\")\n",
    "print(train_data['tolls_amount'].value_counts())\n",
    "print(\"--------------------------------------------------------\")\n",
    "print(train_data['improvement_surcharge'].value_counts())\n",
    "print(\"--------------------------------------------------------\")\n",
    "print(train_data['congestion_surcharge'].value_counts())\n",
    "print(\"--------------------------------------------------------\")\n",
    "print(train_data['RatecodeID'].value_counts())\n",
    "print(\"--------------------------------------------------------\")\n",
    "print(train_data['extra'].value_counts())\n",
    "print(\"--------------------------------------------------------\")\n",
    "print(train_data['payment_type'].value_counts())"
   ]
  },
  {
   "cell_type": "markdown",
   "id": "5e534401",
   "metadata": {
    "papermill": {
     "duration": 0.025316,
     "end_time": "2023-11-29T19:46:02.219711",
     "exception": false,
     "start_time": "2023-11-29T19:46:02.194395",
     "status": "completed"
    },
    "tags": []
   },
   "source": [
    "# Data Preprocessing"
   ]
  },
  {
   "cell_type": "code",
   "execution_count": 8,
   "id": "3210447c",
   "metadata": {
    "execution": {
     "iopub.execute_input": "2023-11-29T19:46:02.271954Z",
     "iopub.status.busy": "2023-11-29T19:46:02.270741Z",
     "iopub.status.idle": "2023-11-29T19:46:02.665827Z",
     "shell.execute_reply": "2023-11-29T19:46:02.664464Z"
    },
    "papermill": {
     "duration": 0.424021,
     "end_time": "2023-11-29T19:46:02.669203",
     "exception": false,
     "start_time": "2023-11-29T19:46:02.245182",
     "status": "completed"
    },
    "tags": []
   },
   "outputs": [],
   "source": [
    "from sklearn.pipeline import Pipeline \n",
    "from sklearn.compose import ColumnTransformer\n",
    "from sklearn.impute import SimpleImputer\n",
    "from sklearn.preprocessing import OneHotEncoder,StandardScaler"
   ]
  },
  {
   "cell_type": "code",
   "execution_count": 9,
   "id": "1eae7851",
   "metadata": {
    "execution": {
     "iopub.execute_input": "2023-11-29T19:46:02.815612Z",
     "iopub.status.busy": "2023-11-29T19:46:02.815174Z",
     "iopub.status.idle": "2023-11-29T19:46:02.848603Z",
     "shell.execute_reply": "2023-11-29T19:46:02.847465Z"
    },
    "papermill": {
     "duration": 0.062588,
     "end_time": "2023-11-29T19:46:02.851261",
     "exception": false,
     "start_time": "2023-11-29T19:46:02.788673",
     "status": "completed"
    },
    "tags": []
   },
   "outputs": [
    {
     "name": "stdout",
     "output_type": "stream",
     "text": [
      "   VendorID  passenger_count  trip_distance  RatecodeID store_and_fwd_flag  \\\n",
      "0         1              1.0           2.14         1.0                  N   \n",
      "1         0              1.0           2.70         1.0                  N   \n",
      "2         1              1.0           1.15         1.0                  N   \n",
      "3         0              1.0           0.40         1.0                  N   \n",
      "4         1              3.0           1.10         1.0                  N   \n",
      "\n",
      "   PULocationID  DOLocationID payment_type  extra  tip_amount  tolls_amount  \\\n",
      "0           120             9  Credit Card    2.5    7.165589           0.0   \n",
      "1            15           215  Credit Card    3.5    6.067401           0.0   \n",
      "2           167           223  Credit Card    0.0    4.111547           0.0   \n",
      "3           128           239  Credit Card    2.5    6.411079           0.0   \n",
      "4           203            52  Credit Card    1.0    4.769377           0.0   \n",
      "\n",
      "   improvement_surcharge  congestion_surcharge  Airport_fee  \n",
      "0                    1.0                   2.5          0.0  \n",
      "1                    1.0                   2.5          0.0  \n",
      "2                    1.0                   2.5          0.0  \n",
      "3                    1.0                   2.5          0.0  \n",
      "4                    1.0                   2.5          0.0  \n",
      "0    20.64\n",
      "1    25.55\n",
      "2    17.64\n",
      "3    12.80\n",
      "4    18.00\n",
      "Name: total_amount, dtype: float64\n"
     ]
    }
   ],
   "source": [
    "X,y= train_data.iloc[:,[0,3,4,5,6,7,8,9,10,11,12,13,15,16]],train_data.iloc[:,14]\n",
    "print(X.head(5))\n",
    "print(y.head(5))"
   ]
  },
  {
   "cell_type": "code",
   "execution_count": 10,
   "id": "9d5d0ba2",
   "metadata": {
    "execution": {
     "iopub.execute_input": "2023-11-29T19:46:02.901184Z",
     "iopub.status.busy": "2023-11-29T19:46:02.900772Z",
     "iopub.status.idle": "2023-11-29T19:46:03.573992Z",
     "shell.execute_reply": "2023-11-29T19:46:03.573137Z"
    },
    "papermill": {
     "duration": 0.700902,
     "end_time": "2023-11-29T19:46:03.576474",
     "exception": false,
     "start_time": "2023-11-29T19:46:02.875572",
     "status": "completed"
    },
    "tags": []
   },
   "outputs": [
    {
     "data": {
      "image/png": "[encoded data removed]",
      "text/plain": [
       "<Figure size 640x480 with 1 Axes>"
      ]
     },
     "metadata": {},
     "output_type": "display_data"
    }
   ],
   "source": [
    "plt.scatter(X['passenger_count'],y)\n",
    "plt.xlabel('passenger_count')\n",
    "plt.ylabel('total_amount')\n",
    "plt.show()"
   ]
  },
  {
   "cell_type": "code",
   "execution_count": 11,
   "id": "bb3fe6ca",
   "metadata": {
    "execution": {
     "iopub.execute_input": "2023-11-29T19:46:03.626015Z",
     "iopub.status.busy": "2023-11-29T19:46:03.625581Z",
     "iopub.status.idle": "2023-11-29T19:46:11.989521Z",
     "shell.execute_reply": "2023-11-29T19:46:11.988553Z"
    },
    "papermill": {
     "duration": 8.392252,
     "end_time": "2023-11-29T19:46:11.992470",
     "exception": false,
     "start_time": "2023-11-29T19:46:03.600218",
     "status": "completed"
    },
    "tags": []
   },
   "outputs": [
    {
     "data": {
      "image/png": "[encoded data removed]",
      "text/plain": [
       "<Figure size 640x480 with 1 Axes>"
      ]
     },
     "metadata": {},
     "output_type": "display_data"
    }
   ],
   "source": [
    "plt.scatter(X['tip_amount'],y,label='tip_amount')\n",
    "plt.scatter(X['tolls_amount'],y,label='tolls_amount')\n",
    "plt.xlabel('amount')\n",
    "plt.ylabel('total_amount')\n",
    "plt.legend()\n",
    "plt.show()"
   ]
  },
  {
   "cell_type": "code",
   "execution_count": 12,
   "id": "c302b38d",
   "metadata": {
    "execution": {
     "iopub.execute_input": "2023-11-29T19:46:12.050132Z",
     "iopub.status.busy": "2023-11-29T19:46:12.049692Z",
     "iopub.status.idle": "2023-11-29T19:46:17.358636Z",
     "shell.execute_reply": "2023-11-29T19:46:17.357265Z"
    },
    "papermill": {
     "duration": 5.340984,
     "end_time": "2023-11-29T19:46:17.362207",
     "exception": false,
     "start_time": "2023-11-29T19:46:12.021223",
     "status": "completed"
    },
    "tags": []
   },
   "outputs": [
    {
     "data": {
      "image/png": "[encoded data removed]",
      "text/plain": [
       "<Figure size 640x480 with 1 Axes>"
      ]
     },
     "metadata": {},
     "output_type": "display_data"
    }
   ],
   "source": [
    "plt.scatter(X['improvement_surcharge'],y,label='improvement_surcharge')\n",
    "plt.scatter(X['congestion_surcharge'],y,label='congestion_surcharge')\n",
    "plt.xlabel('surcharge')\n",
    "plt.ylabel('total_amount')\n",
    "plt.legend()\n",
    "plt.show()"
   ]
  },
  {
   "cell_type": "code",
   "execution_count": 13,
   "id": "6380e5a8",
   "metadata": {
    "execution": {
     "iopub.execute_input": "2023-11-29T19:46:17.418269Z",
     "iopub.status.busy": "2023-11-29T19:46:17.417739Z",
     "iopub.status.idle": "2023-11-29T19:46:17.430302Z",
     "shell.execute_reply": "2023-11-29T19:46:17.428252Z"
    },
    "papermill": {
     "duration": 0.044166,
     "end_time": "2023-11-29T19:46:17.433496",
     "exception": false,
     "start_time": "2023-11-29T19:46:17.389330",
     "status": "completed"
    },
    "tags": []
   },
   "outputs": [
    {
     "name": "stdout",
     "output_type": "stream",
     "text": [
      "Index(['VendorID', 'passenger_count', 'trip_distance', 'RatecodeID',\n",
      "       'store_and_fwd_flag', 'PULocationID', 'DOLocationID', 'payment_type',\n",
      "       'extra', 'tip_amount', 'tolls_amount', 'improvement_surcharge',\n",
      "       'congestion_surcharge', 'Airport_fee'],\n",
      "      dtype='object')\n"
     ]
    }
   ],
   "source": [
    "test_data_rel = test_data.iloc[:,[0,3,4,5,6,7,8,9,10,11,12,13,14,15]]\n",
    "print(test_data_rel.columns)"
   ]
  },
  {
   "cell_type": "code",
   "execution_count": 14,
   "id": "8cb49a8f",
   "metadata": {
    "execution": {
     "iopub.execute_input": "2023-11-29T19:46:17.489167Z",
     "iopub.status.busy": "2023-11-29T19:46:17.487823Z",
     "iopub.status.idle": "2023-11-29T19:46:17.538672Z",
     "shell.execute_reply": "2023-11-29T19:46:17.537412Z"
    },
    "papermill": {
     "duration": 0.081822,
     "end_time": "2023-11-29T19:46:17.541455",
     "exception": false,
     "start_time": "2023-11-29T19:46:17.459633",
     "status": "completed"
    },
    "tags": []
   },
   "outputs": [
    {
     "data": {
      "text/plain": [
       "VendorID                    0\n",
       "passenger_count          6077\n",
       "trip_distance               0\n",
       "RatecodeID               6077\n",
       "store_and_fwd_flag       6077\n",
       "PULocationID                0\n",
       "DOLocationID                0\n",
       "payment_type                0\n",
       "extra                       0\n",
       "tip_amount                  0\n",
       "tolls_amount                0\n",
       "improvement_surcharge       0\n",
       "congestion_surcharge     6077\n",
       "Airport_fee              6077\n",
       "dtype: int64"
      ]
     },
     "execution_count": 14,
     "metadata": {},
     "output_type": "execute_result"
    }
   ],
   "source": [
    "X.isnull().sum()"
   ]
  },
  {
   "cell_type": "code",
   "execution_count": 15,
   "id": "db2cad3a",
   "metadata": {
    "execution": {
     "iopub.execute_input": "2023-11-29T19:46:17.597307Z",
     "iopub.status.busy": "2023-11-29T19:46:17.596786Z",
     "iopub.status.idle": "2023-11-29T19:46:18.602515Z",
     "shell.execute_reply": "2023-11-29T19:46:18.601024Z"
    },
    "papermill": {
     "duration": 1.040691,
     "end_time": "2023-11-29T19:46:18.607687",
     "exception": false,
     "start_time": "2023-11-29T19:46:17.566996",
     "status": "completed"
    },
    "tags": []
   },
   "outputs": [
    {
     "name": "stdout",
     "output_type": "stream",
     "text": [
      "[-0.40846262 -0.08097858  0.31437535 -0.31575674  0.60955962 -0.00761053\n",
      " -0.16691511 -1.62354292  0.29143388  0.22514244 -0.27781016  0.10218345\n",
      "  1.          0.          0.          1.          0.          0.\n",
      "  0.        ]\n"
     ]
    }
   ],
   "source": [
    "impute_transformer = ColumnTransformer(\n",
    "[('numeric_imputer',SimpleImputer(strategy='mean'),[1,3,12,13]),\n",
    "('categorical_imputer',SimpleImputer(strategy='most_frequent'),[4])],remainder=\"passthrough\")\n",
    "\n",
    "# res= impute_transformer.fit_transform(train_data)\n",
    "scale_transformer = ColumnTransformer(\n",
    "[('numeric',StandardScaler(),[0,1,2,3,5,6,7,8,10,11,12,13]),\n",
    "('categorical',OneHotEncoder(),[4,9])],remainder=\"passthrough\")\n",
    "\n",
    "pipe = Pipeline(steps=[('impute',impute_transformer),('scale',scale_transformer)])\n",
    "\n",
    "clean_data=pipe.fit_transform(X)\n",
    "print(clean_data[0])"
   ]
  },
  {
   "cell_type": "code",
   "execution_count": 16,
   "id": "4be413a5",
   "metadata": {
    "execution": {
     "iopub.execute_input": "2023-11-29T19:46:18.670741Z",
     "iopub.status.busy": "2023-11-29T19:46:18.669263Z",
     "iopub.status.idle": "2023-11-29T19:46:18.860767Z",
     "shell.execute_reply": "2023-11-29T19:46:18.858667Z"
    },
    "papermill": {
     "duration": 0.22448,
     "end_time": "2023-11-29T19:46:18.864197",
     "exception": false,
     "start_time": "2023-11-29T19:46:18.639717",
     "status": "completed"
    },
    "tags": []
   },
   "outputs": [
    {
     "name": "stdout",
     "output_type": "stream",
     "text": [
      "[-4.08462625e-01 -8.09785790e-02  3.14375349e-01 -3.15756739e-01\n",
      "  6.09559617e-01 -4.96063956e-04 -1.48013721e+00 -1.70229106e+00\n",
      " -4.78392313e-01 -1.29880260e-02 -2.77810165e-01  1.02183454e-01\n",
      "  1.00000000e+00  0.00000000e+00  0.00000000e+00  1.00000000e+00\n",
      "  0.00000000e+00  0.00000000e+00  0.00000000e+00]\n"
     ]
    }
   ],
   "source": [
    "clean_test_data=pipe.transform(test_data_rel)\n",
    "print(clean_test_data[0])"
   ]
  },
  {
   "cell_type": "markdown",
   "id": "b28402be",
   "metadata": {
    "papermill": {
     "duration": 0.02763,
     "end_time": "2023-11-29T19:46:18.921288",
     "exception": false,
     "start_time": "2023-11-29T19:46:18.893658",
     "status": "completed"
    },
    "tags": []
   },
   "source": [
    "# Feature Extraction Using RFECV"
   ]
  },
  {
   "cell_type": "code",
   "execution_count": 17,
   "id": "0797d704",
   "metadata": {
    "execution": {
     "iopub.execute_input": "2023-11-29T19:46:18.978422Z",
     "iopub.status.busy": "2023-11-29T19:46:18.977834Z",
     "iopub.status.idle": "2023-11-29T19:48:48.254211Z",
     "shell.execute_reply": "2023-11-29T19:48:48.252856Z"
    },
    "papermill": {
     "duration": 149.309487,
     "end_time": "2023-11-29T19:48:48.257879",
     "exception": false,
     "start_time": "2023-11-29T19:46:18.948392",
     "status": "completed"
    },
    "tags": []
   },
   "outputs": [],
   "source": [
    "from sklearn.tree import DecisionTreeRegressor\n",
    "from sklearn.feature_selection import RFECV\n",
    "\n",
    "rfe = DecisionTreeRegressor()\n",
    "\n",
    "select = RFECV(estimator=rfe,step=1, cv=5)\n",
    "select = select.fit(clean_data,y)"
   ]
  },
  {
   "cell_type": "code",
   "execution_count": 18,
   "id": "9a14bfc8",
   "metadata": {
    "execution": {
     "iopub.execute_input": "2023-11-29T19:48:48.313233Z",
     "iopub.status.busy": "2023-11-29T19:48:48.312548Z",
     "iopub.status.idle": "2023-11-29T19:48:48.319167Z",
     "shell.execute_reply": "2023-11-29T19:48:48.317595Z"
    },
    "papermill": {
     "duration": 0.037832,
     "end_time": "2023-11-29T19:48:48.322064",
     "exception": false,
     "start_time": "2023-11-29T19:48:48.284232",
     "status": "completed"
    },
    "tags": []
   },
   "outputs": [
    {
     "name": "stdout",
     "output_type": "stream",
     "text": [
      "[ True  True  True False  True  True  True  True  True  True  True  True\n",
      " False False False  True False False False]\n"
     ]
    }
   ],
   "source": [
    "print(select.support_)"
   ]
  },
  {
   "cell_type": "code",
   "execution_count": 19,
   "id": "2986d851",
   "metadata": {
    "execution": {
     "iopub.execute_input": "2023-11-29T19:48:48.381494Z",
     "iopub.status.busy": "2023-11-29T19:48:48.379918Z",
     "iopub.status.idle": "2023-11-29T19:48:48.391540Z",
     "shell.execute_reply": "2023-11-29T19:48:48.390113Z"
    },
    "papermill": {
     "duration": 0.044355,
     "end_time": "2023-11-29T19:48:48.394708",
     "exception": false,
     "start_time": "2023-11-29T19:48:48.350353",
     "status": "completed"
    },
    "tags": []
   },
   "outputs": [],
   "source": [
    "validation_test=clean_test_data[:,select.support_]"
   ]
  },
  {
   "cell_type": "code",
   "execution_count": 20,
   "id": "dc682fb5",
   "metadata": {
    "execution": {
     "iopub.execute_input": "2023-11-29T19:48:48.451688Z",
     "iopub.status.busy": "2023-11-29T19:48:48.451211Z",
     "iopub.status.idle": "2023-11-29T19:48:48.480693Z",
     "shell.execute_reply": "2023-11-29T19:48:48.479047Z"
    },
    "papermill": {
     "duration": 0.061431,
     "end_time": "2023-11-29T19:48:48.484157",
     "exception": false,
     "start_time": "2023-11-29T19:48:48.422726",
     "status": "completed"
    },
    "tags": []
   },
   "outputs": [],
   "source": [
    "X_rfe=clean_data[:, select.support_]"
   ]
  },
  {
   "cell_type": "code",
   "execution_count": 21,
   "id": "4fa36d32",
   "metadata": {
    "execution": {
     "iopub.execute_input": "2023-11-29T19:48:48.539573Z",
     "iopub.status.busy": "2023-11-29T19:48:48.539157Z",
     "iopub.status.idle": "2023-11-29T19:48:48.546734Z",
     "shell.execute_reply": "2023-11-29T19:48:48.545305Z"
    },
    "papermill": {
     "duration": 0.03859,
     "end_time": "2023-11-29T19:48:48.549604",
     "exception": false,
     "start_time": "2023-11-29T19:48:48.511014",
     "status": "completed"
    },
    "tags": []
   },
   "outputs": [
    {
     "name": "stdout",
     "output_type": "stream",
     "text": [
      "12\n",
      "19\n",
      "12\n"
     ]
    }
   ],
   "source": [
    "print(len(X_rfe[0]))\n",
    "print(len(clean_data[0]))\n",
    "print(len(validation_test[0]))"
   ]
  },
  {
   "cell_type": "code",
   "execution_count": 22,
   "id": "7e76eb7c",
   "metadata": {
    "execution": {
     "iopub.execute_input": "2023-11-29T19:48:48.607294Z",
     "iopub.status.busy": "2023-11-29T19:48:48.605671Z",
     "iopub.status.idle": "2023-11-29T19:48:48.612816Z",
     "shell.execute_reply": "2023-11-29T19:48:48.611700Z"
    },
    "papermill": {
     "duration": 0.038885,
     "end_time": "2023-11-29T19:48:48.615380",
     "exception": false,
     "start_time": "2023-11-29T19:48:48.576495",
     "status": "completed"
    },
    "tags": []
   },
   "outputs": [
    {
     "name": "stdout",
     "output_type": "stream",
     "text": [
      "[20.64 25.55 17.64 ... 33.5  40.8  16.32]\n"
     ]
    }
   ],
   "source": [
    "y=y.values\n",
    "print(y)"
   ]
  },
  {
   "cell_type": "markdown",
   "id": "f40c7147",
   "metadata": {
    "papermill": {
     "duration": 0.029118,
     "end_time": "2023-11-29T19:48:48.672858",
     "exception": false,
     "start_time": "2023-11-29T19:48:48.643740",
     "status": "completed"
    },
    "tags": []
   },
   "source": [
    "# Train Test Splitting of Clean Training Data"
   ]
  },
  {
   "cell_type": "code",
   "execution_count": 23,
   "id": "05940037",
   "metadata": {
    "execution": {
     "iopub.execute_input": "2023-11-29T19:48:48.729485Z",
     "iopub.status.busy": "2023-11-29T19:48:48.728842Z",
     "iopub.status.idle": "2023-11-29T19:48:48.774229Z",
     "shell.execute_reply": "2023-11-29T19:48:48.772694Z"
    },
    "papermill": {
     "duration": 0.077045,
     "end_time": "2023-11-29T19:48:48.777321",
     "exception": false,
     "start_time": "2023-11-29T19:48:48.700276",
     "status": "completed"
    },
    "tags": []
   },
   "outputs": [],
   "source": [
    "from sklearn.model_selection import train_test_split\n",
    "X_train, X_test, y_train, y_test = train_test_split(X_rfe, y, test_size = 0.2, random_state = 42)"
   ]
  },
  {
   "cell_type": "code",
   "execution_count": 24,
   "id": "19356edd",
   "metadata": {
    "execution": {
     "iopub.execute_input": "2023-11-29T19:48:48.833755Z",
     "iopub.status.busy": "2023-11-29T19:48:48.832978Z",
     "iopub.status.idle": "2023-11-29T19:48:48.840652Z",
     "shell.execute_reply": "2023-11-29T19:48:48.838731Z"
    },
    "papermill": {
     "duration": 0.038578,
     "end_time": "2023-11-29T19:48:48.843916",
     "exception": false,
     "start_time": "2023-11-29T19:48:48.805338",
     "status": "completed"
    },
    "tags": []
   },
   "outputs": [
    {
     "name": "stdout",
     "output_type": "stream",
     "text": [
      "[ 40.95  16.4  -74.   ...  23.5   13.7   23.88]\n"
     ]
    }
   ],
   "source": [
    "print(y_train)"
   ]
  },
  {
   "cell_type": "markdown",
   "id": "38e8eeb4",
   "metadata": {
    "papermill": {
     "duration": 0.02721,
     "end_time": "2023-11-29T19:48:48.898872",
     "exception": false,
     "start_time": "2023-11-29T19:48:48.871662",
     "status": "completed"
    },
    "tags": []
   },
   "source": [
    "# Application Of Various Regression Models"
   ]
  },
  {
   "cell_type": "markdown",
   "id": "1393aa6a",
   "metadata": {
    "papermill": {
     "duration": 0.027128,
     "end_time": "2023-11-29T19:48:48.952911",
     "exception": false,
     "start_time": "2023-11-29T19:48:48.925783",
     "status": "completed"
    },
    "tags": []
   },
   "source": [
    "## DecisionTreeRegressor"
   ]
  },
  {
   "cell_type": "code",
   "execution_count": 25,
   "id": "53a3e7a2",
   "metadata": {
    "execution": {
     "iopub.execute_input": "2023-11-29T19:48:49.012985Z",
     "iopub.status.busy": "2023-11-29T19:48:49.012489Z",
     "iopub.status.idle": "2023-11-29T19:48:50.598982Z",
     "shell.execute_reply": "2023-11-29T19:48:50.597201Z"
    },
    "papermill": {
     "duration": 1.622604,
     "end_time": "2023-11-29T19:48:50.602198",
     "exception": false,
     "start_time": "2023-11-29T19:48:48.979594",
     "status": "completed"
    },
    "tags": []
   },
   "outputs": [
    {
     "data": {
      "text/html": [
       "<style>#sk-container-id-1 {color: black;background-color: white;}#sk-container-id-1 pre{padding: 0;}#sk-container-id-1 div.sk-toggleable {background-color: white;}#sk-container-id-1 label.sk-toggleable__label {cursor: pointer;display: block;width: 100%;margin-bottom: 0;padding: 0.3em;box-sizing: border-box;text-align: center;}#sk-container-id-1 label.sk-toggleable__label-arrow:before {content: \"▸\";float: left;margin-right: 0.25em;color: #696969;}#sk-container-id-1 label.sk-toggleable__label-arrow:hover:before {color: black;}#sk-container-id-1 div.sk-estimator:hover label.sk-toggleable__label-arrow:before {color: black;}#sk-container-id-1 div.sk-toggleable__content {max-height: 0;max-width: 0;overflow: hidden;text-align: left;background-color: #f0f8ff;}#sk-container-id-1 div.sk-toggleable__content pre {margin: 0.2em;color: black;border-radius: 0.25em;background-color: #f0f8ff;}#sk-container-id-1 input.sk-toggleable__control:checked~div.sk-toggleable__content {max-height: 200px;max-width: 100%;overflow: auto;}#sk-container-id-1 input.sk-toggleable__control:checked~label.sk-toggleable__label-arrow:before {content: \"▾\";}#sk-container-id-1 div.sk-estimator input.sk-toggleable__control:checked~label.sk-toggleable__label {background-color: #d4ebff;}#sk-container-id-1 div.sk-label input.sk-toggleable__control:checked~label.sk-toggleable__label {background-color: #d4ebff;}#sk-container-id-1 input.sk-hidden--visually {border: 0;clip: rect(1px 1px 1px 1px);clip: rect(1px, 1px, 1px, 1px);height: 1px;margin: -1px;overflow: hidden;padding: 0;position: absolute;width: 1px;}#sk-container-id-1 div.sk-estimator {font-family: monospace;background-color: #f0f8ff;border: 1px dotted black;border-radius: 0.25em;box-sizing: border-box;margin-bottom: 0.5em;}#sk-container-id-1 div.sk-estimator:hover {background-color: #d4ebff;}#sk-container-id-1 div.sk-parallel-item::after {content: \"\";width: 100%;border-bottom: 1px solid gray;flex-grow: 1;}#sk-container-id-1 div.sk-label:hover label.sk-toggleable__label {background-color: #d4ebff;}#sk-container-id-1 div.sk-serial::before {content: \"\";position: absolute;border-left: 1px solid gray;box-sizing: border-box;top: 0;bottom: 0;left: 50%;z-index: 0;}#sk-container-id-1 div.sk-serial {display: flex;flex-direction: column;align-items: center;background-color: white;padding-right: 0.2em;padding-left: 0.2em;position: relative;}#sk-container-id-1 div.sk-item {position: relative;z-index: 1;}#sk-container-id-1 div.sk-parallel {display: flex;align-items: stretch;justify-content: center;background-color: white;position: relative;}#sk-container-id-1 div.sk-item::before, #sk-container-id-1 div.sk-parallel-item::before {content: \"\";position: absolute;border-left: 1px solid gray;box-sizing: border-box;top: 0;bottom: 0;left: 50%;z-index: -1;}#sk-container-id-1 div.sk-parallel-item {display: flex;flex-direction: column;z-index: 1;position: relative;background-color: white;}#sk-container-id-1 div.sk-parallel-item:first-child::after {align-self: flex-end;width: 50%;}#sk-container-id-1 div.sk-parallel-item:last-child::after {align-self: flex-start;width: 50%;}#sk-container-id-1 div.sk-parallel-item:only-child::after {width: 0;}#sk-container-id-1 div.sk-dashed-wrapped {border: 1px dashed gray;margin: 0 0.4em 0.5em 0.4em;box-sizing: border-box;padding-bottom: 0.4em;background-color: white;}#sk-container-id-1 div.sk-label label {font-family: monospace;font-weight: bold;display: inline-block;line-height: 1.2em;}#sk-container-id-1 div.sk-label-container {text-align: center;}#sk-container-id-1 div.sk-container {/* jupyter's `normalize.less` sets `[hidden] { display: none; }` but bootstrap.min.css set `[hidden] { display: none !important; }` so we also need the `!important` here to be able to override the default hidden behavior on the sphinx rendered scikit-learn.org. See: https://github.com/scikit-learn/scikit-learn/issues/21755 */display: inline-block !important;position: relative;}#sk-container-id-1 div.sk-text-repr-fallback {display: none;}</style><div id=\"sk-container-id-1\" class=\"sk-top-container\"><div class=\"sk-text-repr-fallback\"><pre>DecisionTreeRegressor()</pre><b>In a Jupyter environment, please rerun this cell to show the HTML representation or trust the notebook. <br />On GitHub, the HTML representation is unable to render, please try loading this page with nbviewer.org.</b></div><div class=\"sk-container\" hidden><div class=\"sk-item\"><div class=\"sk-estimator sk-toggleable\"><input class=\"sk-toggleable__control sk-hidden--visually\" id=\"sk-estimator-id-1\" type=\"checkbox\" checked><label for=\"sk-estimator-id-1\" class=\"sk-toggleable__label sk-toggleable__label-arrow\">DecisionTreeRegressor</label><div class=\"sk-toggleable__content\"><pre>DecisionTreeRegressor()</pre></div></div></div></div></div>"
      ],
      "text/plain": [
       "DecisionTreeRegressor()"
      ]
     },
     "execution_count": 25,
     "metadata": {},
     "output_type": "execute_result"
    }
   ],
   "source": [
    "from sklearn.tree import DecisionTreeRegressor\n",
    "dtr = DecisionTreeRegressor()\n",
    "dtr.fit(X_train,y_train)"
   ]
  },
  {
   "cell_type": "code",
   "execution_count": 26,
   "id": "0938ac26",
   "metadata": {
    "execution": {
     "iopub.execute_input": "2023-11-29T19:48:50.659497Z",
     "iopub.status.busy": "2023-11-29T19:48:50.659039Z",
     "iopub.status.idle": "2023-11-29T19:48:50.706100Z",
     "shell.execute_reply": "2023-11-29T19:48:50.704221Z"
    },
    "papermill": {
     "duration": 0.078534,
     "end_time": "2023-11-29T19:48:50.709217",
     "exception": false,
     "start_time": "2023-11-29T19:48:50.630683",
     "status": "completed"
    },
    "tags": []
   },
   "outputs": [
    {
     "name": "stdout",
     "output_type": "stream",
     "text": [
      "0.90475343593282\n"
     ]
    }
   ],
   "source": [
    "dtr_pred = dtr.predict(X_test)\n",
    "print(r2_score(y_test,dtr_pred))"
   ]
  },
  {
   "cell_type": "markdown",
   "id": "2598917e",
   "metadata": {
    "papermill": {
     "duration": 0.026119,
     "end_time": "2023-11-29T19:48:50.763415",
     "exception": false,
     "start_time": "2023-11-29T19:48:50.737296",
     "status": "completed"
    },
    "tags": []
   },
   "source": [
    "## LinearRegression"
   ]
  },
  {
   "cell_type": "code",
   "execution_count": 27,
   "id": "e73a8701",
   "metadata": {
    "execution": {
     "iopub.execute_input": "2023-11-29T19:48:50.818496Z",
     "iopub.status.busy": "2023-11-29T19:48:50.818028Z",
     "iopub.status.idle": "2023-11-29T19:48:50.964785Z",
     "shell.execute_reply": "2023-11-29T19:48:50.962454Z"
    },
    "papermill": {
     "duration": 0.178363,
     "end_time": "2023-11-29T19:48:50.968188",
     "exception": false,
     "start_time": "2023-11-29T19:48:50.789825",
     "status": "completed"
    },
    "tags": []
   },
   "outputs": [
    {
     "data": {
      "text/html": [
       "<style>#sk-container-id-2 {color: black;background-color: white;}#sk-container-id-2 pre{padding: 0;}#sk-container-id-2 div.sk-toggleable {background-color: white;}#sk-container-id-2 label.sk-toggleable__label {cursor: pointer;display: block;width: 100%;margin-bottom: 0;padding: 0.3em;box-sizing: border-box;text-align: center;}#sk-container-id-2 label.sk-toggleable__label-arrow:before {content: \"▸\";float: left;margin-right: 0.25em;color: #696969;}#sk-container-id-2 label.sk-toggleable__label-arrow:hover:before {color: black;}#sk-container-id-2 div.sk-estimator:hover label.sk-toggleable__label-arrow:before {color: black;}#sk-container-id-2 div.sk-toggleable__content {max-height: 0;max-width: 0;overflow: hidden;text-align: left;background-color: #f0f8ff;}#sk-container-id-2 div.sk-toggleable__content pre {margin: 0.2em;color: black;border-radius: 0.25em;background-color: #f0f8ff;}#sk-container-id-2 input.sk-toggleable__control:checked~div.sk-toggleable__content {max-height: 200px;max-width: 100%;overflow: auto;}#sk-container-id-2 input.sk-toggleable__control:checked~label.sk-toggleable__label-arrow:before {content: \"▾\";}#sk-container-id-2 div.sk-estimator input.sk-toggleable__control:checked~label.sk-toggleable__label {background-color: #d4ebff;}#sk-container-id-2 div.sk-label input.sk-toggleable__control:checked~label.sk-toggleable__label {background-color: #d4ebff;}#sk-container-id-2 input.sk-hidden--visually {border: 0;clip: rect(1px 1px 1px 1px);clip: rect(1px, 1px, 1px, 1px);height: 1px;margin: -1px;overflow: hidden;padding: 0;position: absolute;width: 1px;}#sk-container-id-2 div.sk-estimator {font-family: monospace;background-color: #f0f8ff;border: 1px dotted black;border-radius: 0.25em;box-sizing: border-box;margin-bottom: 0.5em;}#sk-container-id-2 div.sk-estimator:hover {background-color: #d4ebff;}#sk-container-id-2 div.sk-parallel-item::after {content: \"\";width: 100%;border-bottom: 1px solid gray;flex-grow: 1;}#sk-container-id-2 div.sk-label:hover label.sk-toggleable__label {background-color: #d4ebff;}#sk-container-id-2 div.sk-serial::before {content: \"\";position: absolute;border-left: 1px solid gray;box-sizing: border-box;top: 0;bottom: 0;left: 50%;z-index: 0;}#sk-container-id-2 div.sk-serial {display: flex;flex-direction: column;align-items: center;background-color: white;padding-right: 0.2em;padding-left: 0.2em;position: relative;}#sk-container-id-2 div.sk-item {position: relative;z-index: 1;}#sk-container-id-2 div.sk-parallel {display: flex;align-items: stretch;justify-content: center;background-color: white;position: relative;}#sk-container-id-2 div.sk-item::before, #sk-container-id-2 div.sk-parallel-item::before {content: \"\";position: absolute;border-left: 1px solid gray;box-sizing: border-box;top: 0;bottom: 0;left: 50%;z-index: -1;}#sk-container-id-2 div.sk-parallel-item {display: flex;flex-direction: column;z-index: 1;position: relative;background-color: white;}#sk-container-id-2 div.sk-parallel-item:first-child::after {align-self: flex-end;width: 50%;}#sk-container-id-2 div.sk-parallel-item:last-child::after {align-self: flex-start;width: 50%;}#sk-container-id-2 div.sk-parallel-item:only-child::after {width: 0;}#sk-container-id-2 div.sk-dashed-wrapped {border: 1px dashed gray;margin: 0 0.4em 0.5em 0.4em;box-sizing: border-box;padding-bottom: 0.4em;background-color: white;}#sk-container-id-2 div.sk-label label {font-family: monospace;font-weight: bold;display: inline-block;line-height: 1.2em;}#sk-container-id-2 div.sk-label-container {text-align: center;}#sk-container-id-2 div.sk-container {/* jupyter's `normalize.less` sets `[hidden] { display: none; }` but bootstrap.min.css set `[hidden] { display: none !important; }` so we also need the `!important` here to be able to override the default hidden behavior on the sphinx rendered scikit-learn.org. See: https://github.com/scikit-learn/scikit-learn/issues/21755 */display: inline-block !important;position: relative;}#sk-container-id-2 div.sk-text-repr-fallback {display: none;}</style><div id=\"sk-container-id-2\" class=\"sk-top-container\"><div class=\"sk-text-repr-fallback\"><pre>LinearRegression()</pre><b>In a Jupyter environment, please rerun this cell to show the HTML representation or trust the notebook. <br />On GitHub, the HTML representation is unable to render, please try loading this page with nbviewer.org.</b></div><div class=\"sk-container\" hidden><div class=\"sk-item\"><div class=\"sk-estimator sk-toggleable\"><input class=\"sk-toggleable__control sk-hidden--visually\" id=\"sk-estimator-id-2\" type=\"checkbox\" checked><label for=\"sk-estimator-id-2\" class=\"sk-toggleable__label sk-toggleable__label-arrow\">LinearRegression</label><div class=\"sk-toggleable__content\"><pre>LinearRegression()</pre></div></div></div></div></div>"
      ],
      "text/plain": [
       "LinearRegression()"
      ]
     },
     "execution_count": 27,
     "metadata": {},
     "output_type": "execute_result"
    }
   ],
   "source": [
    "from sklearn.linear_model import LinearRegression\n",
    "lr = LinearRegression()\n",
    "lr.fit(X_train,y_train)"
   ]
  },
  {
   "cell_type": "code",
   "execution_count": 28,
   "id": "10ae6ac1",
   "metadata": {
    "execution": {
     "iopub.execute_input": "2023-11-29T19:48:51.077169Z",
     "iopub.status.busy": "2023-11-29T19:48:51.076354Z",
     "iopub.status.idle": "2023-11-29T19:48:51.090308Z",
     "shell.execute_reply": "2023-11-29T19:48:51.088250Z"
    },
    "papermill": {
     "duration": 0.063514,
     "end_time": "2023-11-29T19:48:51.095623",
     "exception": false,
     "start_time": "2023-11-29T19:48:51.032109",
     "status": "completed"
    },
    "tags": []
   },
   "outputs": [],
   "source": [
    "y_pred = lr.predict(X_test)"
   ]
  },
  {
   "cell_type": "code",
   "execution_count": 29,
   "id": "a74d36d9",
   "metadata": {
    "execution": {
     "iopub.execute_input": "2023-11-29T19:48:51.211977Z",
     "iopub.status.busy": "2023-11-29T19:48:51.211550Z",
     "iopub.status.idle": "2023-11-29T19:48:51.217311Z",
     "shell.execute_reply": "2023-11-29T19:48:51.216353Z"
    },
    "papermill": {
     "duration": 0.062826,
     "end_time": "2023-11-29T19:48:51.220201",
     "exception": false,
     "start_time": "2023-11-29T19:48:51.157375",
     "status": "completed"
    },
    "tags": []
   },
   "outputs": [
    {
     "name": "stdout",
     "output_type": "stream",
     "text": [
      "[25.74673565 31.97107938 28.04814139 ... 23.51433632 18.67945215\n",
      " 22.65376901]\n"
     ]
    }
   ],
   "source": [
    "print(y_pred)"
   ]
  },
  {
   "cell_type": "code",
   "execution_count": 30,
   "id": "14109352",
   "metadata": {
    "execution": {
     "iopub.execute_input": "2023-11-29T19:48:51.280771Z",
     "iopub.status.busy": "2023-11-29T19:48:51.279944Z",
     "iopub.status.idle": "2023-11-29T19:48:51.287542Z",
     "shell.execute_reply": "2023-11-29T19:48:51.286138Z"
    },
    "papermill": {
     "duration": 0.04108,
     "end_time": "2023-11-29T19:48:51.290570",
     "exception": false,
     "start_time": "2023-11-29T19:48:51.249490",
     "status": "completed"
    },
    "tags": []
   },
   "outputs": [
    {
     "name": "stdout",
     "output_type": "stream",
     "text": [
      "0.6917183350115452\n"
     ]
    }
   ],
   "source": [
    "print(r2_score(y_test,y_pred))"
   ]
  },
  {
   "cell_type": "code",
   "execution_count": 31,
   "id": "1599749b",
   "metadata": {
    "execution": {
     "iopub.execute_input": "2023-11-29T19:48:51.350887Z",
     "iopub.status.busy": "2023-11-29T19:48:51.350253Z",
     "iopub.status.idle": "2023-11-29T19:48:51.355570Z",
     "shell.execute_reply": "2023-11-29T19:48:51.354382Z"
    },
    "papermill": {
     "duration": 0.039131,
     "end_time": "2023-11-29T19:48:51.358251",
     "exception": false,
     "start_time": "2023-11-29T19:48:51.319120",
     "status": "completed"
    },
    "tags": []
   },
   "outputs": [
    {
     "name": "stdout",
     "output_type": "stream",
     "text": [
      "35000\n",
      "35000\n"
     ]
    }
   ],
   "source": [
    "print(len(y_test))\n",
    "print(len(y_pred))"
   ]
  },
  {
   "cell_type": "code",
   "execution_count": 32,
   "id": "49385dc0",
   "metadata": {
    "execution": {
     "iopub.execute_input": "2023-11-29T19:48:51.418491Z",
     "iopub.status.busy": "2023-11-29T19:48:51.418079Z",
     "iopub.status.idle": "2023-11-29T19:48:51.799588Z",
     "shell.execute_reply": "2023-11-29T19:48:51.798492Z"
    },
    "papermill": {
     "duration": 0.414686,
     "end_time": "2023-11-29T19:48:51.802304",
     "exception": false,
     "start_time": "2023-11-29T19:48:51.387618",
     "status": "completed"
    },
    "tags": []
   },
   "outputs": [
    {
     "data": {
      "image/png": "[encoded data removed]",
      "text/plain": [
       "<Figure size 640x480 with 1 Axes>"
      ]
     },
     "metadata": {},
     "output_type": "display_data"
    }
   ],
   "source": [
    "import matplotlib.pyplot as plt\n",
    "# plt.scatter(np.arange(len(y_test)),y_test,marker='.')\n",
    "# plt.scatter(np.arange(len(y_pred)),y_pred,marker='.')\n",
    "plt.plot(y_test)\n",
    "plt.plot(y_pred)\n",
    "plt.show()"
   ]
  },
  {
   "cell_type": "code",
   "execution_count": 33,
   "id": "ff185f5e",
   "metadata": {
    "execution": {
     "iopub.execute_input": "2023-11-29T19:48:51.864073Z",
     "iopub.status.busy": "2023-11-29T19:48:51.862476Z",
     "iopub.status.idle": "2023-11-29T19:48:51.873433Z",
     "shell.execute_reply": "2023-11-29T19:48:51.871165Z"
    },
    "papermill": {
     "duration": 0.047195,
     "end_time": "2023-11-29T19:48:51.878392",
     "exception": false,
     "start_time": "2023-11-29T19:48:51.831197",
     "status": "completed"
    },
    "tags": []
   },
   "outputs": [],
   "source": [
    "result = lr.predict(validation_test)"
   ]
  },
  {
   "cell_type": "code",
   "execution_count": 34,
   "id": "0a7e0d2e",
   "metadata": {
    "execution": {
     "iopub.execute_input": "2023-11-29T19:48:51.996147Z",
     "iopub.status.busy": "2023-11-29T19:48:51.995651Z",
     "iopub.status.idle": "2023-11-29T19:48:52.002101Z",
     "shell.execute_reply": "2023-11-29T19:48:52.000963Z"
    },
    "papermill": {
     "duration": 0.067396,
     "end_time": "2023-11-29T19:48:52.005983",
     "exception": false,
     "start_time": "2023-11-29T19:48:51.938587",
     "status": "completed"
    },
    "tags": []
   },
   "outputs": [
    {
     "name": "stdout",
     "output_type": "stream",
     "text": [
      "[23.97355224 25.99003944 26.38588889 ... 22.99039541 25.71473977\n",
      " 21.51500395]\n"
     ]
    }
   ],
   "source": [
    "print(result)"
   ]
  },
  {
   "cell_type": "markdown",
   "id": "ddd26e34",
   "metadata": {
    "papermill": {
     "duration": 0.027327,
     "end_time": "2023-11-29T19:48:52.063120",
     "exception": false,
     "start_time": "2023-11-29T19:48:52.035793",
     "status": "completed"
    },
    "tags": []
   },
   "source": [
    "## SGDRegressor"
   ]
  },
  {
   "cell_type": "code",
   "execution_count": 35,
   "id": "8478d728",
   "metadata": {
    "execution": {
     "iopub.execute_input": "2023-11-29T19:48:52.121114Z",
     "iopub.status.busy": "2023-11-29T19:48:52.120230Z",
     "iopub.status.idle": "2023-11-29T19:48:52.321115Z",
     "shell.execute_reply": "2023-11-29T19:48:52.319788Z"
    },
    "papermill": {
     "duration": 0.233598,
     "end_time": "2023-11-29T19:48:52.324338",
     "exception": false,
     "start_time": "2023-11-29T19:48:52.090740",
     "status": "completed"
    },
    "tags": []
   },
   "outputs": [
    {
     "data": {
      "text/html": [
       "<style>#sk-container-id-3 {color: black;background-color: white;}#sk-container-id-3 pre{padding: 0;}#sk-container-id-3 div.sk-toggleable {background-color: white;}#sk-container-id-3 label.sk-toggleable__label {cursor: pointer;display: block;width: 100%;margin-bottom: 0;padding: 0.3em;box-sizing: border-box;text-align: center;}#sk-container-id-3 label.sk-toggleable__label-arrow:before {content: \"▸\";float: left;margin-right: 0.25em;color: #696969;}#sk-container-id-3 label.sk-toggleable__label-arrow:hover:before {color: black;}#sk-container-id-3 div.sk-estimator:hover label.sk-toggleable__label-arrow:before {color: black;}#sk-container-id-3 div.sk-toggleable__content {max-height: 0;max-width: 0;overflow: hidden;text-align: left;background-color: #f0f8ff;}#sk-container-id-3 div.sk-toggleable__content pre {margin: 0.2em;color: black;border-radius: 0.25em;background-color: #f0f8ff;}#sk-container-id-3 input.sk-toggleable__control:checked~div.sk-toggleable__content {max-height: 200px;max-width: 100%;overflow: auto;}#sk-container-id-3 input.sk-toggleable__control:checked~label.sk-toggleable__label-arrow:before {content: \"▾\";}#sk-container-id-3 div.sk-estimator input.sk-toggleable__control:checked~label.sk-toggleable__label {background-color: #d4ebff;}#sk-container-id-3 div.sk-label input.sk-toggleable__control:checked~label.sk-toggleable__label {background-color: #d4ebff;}#sk-container-id-3 input.sk-hidden--visually {border: 0;clip: rect(1px 1px 1px 1px);clip: rect(1px, 1px, 1px, 1px);height: 1px;margin: -1px;overflow: hidden;padding: 0;position: absolute;width: 1px;}#sk-container-id-3 div.sk-estimator {font-family: monospace;background-color: #f0f8ff;border: 1px dotted black;border-radius: 0.25em;box-sizing: border-box;margin-bottom: 0.5em;}#sk-container-id-3 div.sk-estimator:hover {background-color: #d4ebff;}#sk-container-id-3 div.sk-parallel-item::after {content: \"\";width: 100%;border-bottom: 1px solid gray;flex-grow: 1;}#sk-container-id-3 div.sk-label:hover label.sk-toggleable__label {background-color: #d4ebff;}#sk-container-id-3 div.sk-serial::before {content: \"\";position: absolute;border-left: 1px solid gray;box-sizing: border-box;top: 0;bottom: 0;left: 50%;z-index: 0;}#sk-container-id-3 div.sk-serial {display: flex;flex-direction: column;align-items: center;background-color: white;padding-right: 0.2em;padding-left: 0.2em;position: relative;}#sk-container-id-3 div.sk-item {position: relative;z-index: 1;}#sk-container-id-3 div.sk-parallel {display: flex;align-items: stretch;justify-content: center;background-color: white;position: relative;}#sk-container-id-3 div.sk-item::before, #sk-container-id-3 div.sk-parallel-item::before {content: \"\";position: absolute;border-left: 1px solid gray;box-sizing: border-box;top: 0;bottom: 0;left: 50%;z-index: -1;}#sk-container-id-3 div.sk-parallel-item {display: flex;flex-direction: column;z-index: 1;position: relative;background-color: white;}#sk-container-id-3 div.sk-parallel-item:first-child::after {align-self: flex-end;width: 50%;}#sk-container-id-3 div.sk-parallel-item:last-child::after {align-self: flex-start;width: 50%;}#sk-container-id-3 div.sk-parallel-item:only-child::after {width: 0;}#sk-container-id-3 div.sk-dashed-wrapped {border: 1px dashed gray;margin: 0 0.4em 0.5em 0.4em;box-sizing: border-box;padding-bottom: 0.4em;background-color: white;}#sk-container-id-3 div.sk-label label {font-family: monospace;font-weight: bold;display: inline-block;line-height: 1.2em;}#sk-container-id-3 div.sk-label-container {text-align: center;}#sk-container-id-3 div.sk-container {/* jupyter's `normalize.less` sets `[hidden] { display: none; }` but bootstrap.min.css set `[hidden] { display: none !important; }` so we also need the `!important` here to be able to override the default hidden behavior on the sphinx rendered scikit-learn.org. See: https://github.com/scikit-learn/scikit-learn/issues/21755 */display: inline-block !important;position: relative;}#sk-container-id-3 div.sk-text-repr-fallback {display: none;}</style><div id=\"sk-container-id-3\" class=\"sk-top-container\"><div class=\"sk-text-repr-fallback\"><pre>SGDRegressor()</pre><b>In a Jupyter environment, please rerun this cell to show the HTML representation or trust the notebook. <br />On GitHub, the HTML representation is unable to render, please try loading this page with nbviewer.org.</b></div><div class=\"sk-container\" hidden><div class=\"sk-item\"><div class=\"sk-estimator sk-toggleable\"><input class=\"sk-toggleable__control sk-hidden--visually\" id=\"sk-estimator-id-3\" type=\"checkbox\" checked><label for=\"sk-estimator-id-3\" class=\"sk-toggleable__label sk-toggleable__label-arrow\">SGDRegressor</label><div class=\"sk-toggleable__content\"><pre>SGDRegressor()</pre></div></div></div></div></div>"
      ],
      "text/plain": [
       "SGDRegressor()"
      ]
     },
     "execution_count": 35,
     "metadata": {},
     "output_type": "execute_result"
    }
   ],
   "source": [
    "from sklearn.linear_model import SGDRegressor\n",
    "\n",
    "sgd=SGDRegressor()\n",
    "\n",
    "sgd.fit(X_train,y_train)"
   ]
  },
  {
   "cell_type": "code",
   "execution_count": 36,
   "id": "f777c03c",
   "metadata": {
    "execution": {
     "iopub.execute_input": "2023-11-29T19:48:52.384310Z",
     "iopub.status.busy": "2023-11-29T19:48:52.383887Z",
     "iopub.status.idle": "2023-11-29T19:48:52.396907Z",
     "shell.execute_reply": "2023-11-29T19:48:52.393898Z"
    },
    "papermill": {
     "duration": 0.048201,
     "end_time": "2023-11-29T19:48:52.401607",
     "exception": false,
     "start_time": "2023-11-29T19:48:52.353406",
     "status": "completed"
    },
    "tags": []
   },
   "outputs": [
    {
     "name": "stdout",
     "output_type": "stream",
     "text": [
      "-1308574371240.0518\n"
     ]
    }
   ],
   "source": [
    "sgd_pred=sgd.predict(X_test)\n",
    "print(r2_score(y_test,sgd_pred))"
   ]
  },
  {
   "cell_type": "markdown",
   "id": "0ced963b",
   "metadata": {
    "papermill": {
     "duration": 0.055746,
     "end_time": "2023-11-29T19:48:52.518476",
     "exception": false,
     "start_time": "2023-11-29T19:48:52.462730",
     "status": "completed"
    },
    "tags": []
   },
   "source": [
    "## RidgeCV"
   ]
  },
  {
   "cell_type": "code",
   "execution_count": 37,
   "id": "6574cb32",
   "metadata": {
    "execution": {
     "iopub.execute_input": "2023-11-29T19:48:52.577949Z",
     "iopub.status.busy": "2023-11-29T19:48:52.577472Z",
     "iopub.status.idle": "2023-11-29T19:48:53.348521Z",
     "shell.execute_reply": "2023-11-29T19:48:53.347259Z"
    },
    "papermill": {
     "duration": 0.806064,
     "end_time": "2023-11-29T19:48:53.353130",
     "exception": false,
     "start_time": "2023-11-29T19:48:52.547066",
     "status": "completed"
    },
    "tags": []
   },
   "outputs": [
    {
     "data": {
      "text/html": [
       "<style>#sk-container-id-4 {color: black;background-color: white;}#sk-container-id-4 pre{padding: 0;}#sk-container-id-4 div.sk-toggleable {background-color: white;}#sk-container-id-4 label.sk-toggleable__label {cursor: pointer;display: block;width: 100%;margin-bottom: 0;padding: 0.3em;box-sizing: border-box;text-align: center;}#sk-container-id-4 label.sk-toggleable__label-arrow:before {content: \"▸\";float: left;margin-right: 0.25em;color: #696969;}#sk-container-id-4 label.sk-toggleable__label-arrow:hover:before {color: black;}#sk-container-id-4 div.sk-estimator:hover label.sk-toggleable__label-arrow:before {color: black;}#sk-container-id-4 div.sk-toggleable__content {max-height: 0;max-width: 0;overflow: hidden;text-align: left;background-color: #f0f8ff;}#sk-container-id-4 div.sk-toggleable__content pre {margin: 0.2em;color: black;border-radius: 0.25em;background-color: #f0f8ff;}#sk-container-id-4 input.sk-toggleable__control:checked~div.sk-toggleable__content {max-height: 200px;max-width: 100%;overflow: auto;}#sk-container-id-4 input.sk-toggleable__control:checked~label.sk-toggleable__label-arrow:before {content: \"▾\";}#sk-container-id-4 div.sk-estimator input.sk-toggleable__control:checked~label.sk-toggleable__label {background-color: #d4ebff;}#sk-container-id-4 div.sk-label input.sk-toggleable__control:checked~label.sk-toggleable__label {background-color: #d4ebff;}#sk-container-id-4 input.sk-hidden--visually {border: 0;clip: rect(1px 1px 1px 1px);clip: rect(1px, 1px, 1px, 1px);height: 1px;margin: -1px;overflow: hidden;padding: 0;position: absolute;width: 1px;}#sk-container-id-4 div.sk-estimator {font-family: monospace;background-color: #f0f8ff;border: 1px dotted black;border-radius: 0.25em;box-sizing: border-box;margin-bottom: 0.5em;}#sk-container-id-4 div.sk-estimator:hover {background-color: #d4ebff;}#sk-container-id-4 div.sk-parallel-item::after {content: \"\";width: 100%;border-bottom: 1px solid gray;flex-grow: 1;}#sk-container-id-4 div.sk-label:hover label.sk-toggleable__label {background-color: #d4ebff;}#sk-container-id-4 div.sk-serial::before {content: \"\";position: absolute;border-left: 1px solid gray;box-sizing: border-box;top: 0;bottom: 0;left: 50%;z-index: 0;}#sk-container-id-4 div.sk-serial {display: flex;flex-direction: column;align-items: center;background-color: white;padding-right: 0.2em;padding-left: 0.2em;position: relative;}#sk-container-id-4 div.sk-item {position: relative;z-index: 1;}#sk-container-id-4 div.sk-parallel {display: flex;align-items: stretch;justify-content: center;background-color: white;position: relative;}#sk-container-id-4 div.sk-item::before, #sk-container-id-4 div.sk-parallel-item::before {content: \"\";position: absolute;border-left: 1px solid gray;box-sizing: border-box;top: 0;bottom: 0;left: 50%;z-index: -1;}#sk-container-id-4 div.sk-parallel-item {display: flex;flex-direction: column;z-index: 1;position: relative;background-color: white;}#sk-container-id-4 div.sk-parallel-item:first-child::after {align-self: flex-end;width: 50%;}#sk-container-id-4 div.sk-parallel-item:last-child::after {align-self: flex-start;width: 50%;}#sk-container-id-4 div.sk-parallel-item:only-child::after {width: 0;}#sk-container-id-4 div.sk-dashed-wrapped {border: 1px dashed gray;margin: 0 0.4em 0.5em 0.4em;box-sizing: border-box;padding-bottom: 0.4em;background-color: white;}#sk-container-id-4 div.sk-label label {font-family: monospace;font-weight: bold;display: inline-block;line-height: 1.2em;}#sk-container-id-4 div.sk-label-container {text-align: center;}#sk-container-id-4 div.sk-container {/* jupyter's `normalize.less` sets `[hidden] { display: none; }` but bootstrap.min.css set `[hidden] { display: none !important; }` so we also need the `!important` here to be able to override the default hidden behavior on the sphinx rendered scikit-learn.org. See: https://github.com/scikit-learn/scikit-learn/issues/21755 */display: inline-block !important;position: relative;}#sk-container-id-4 div.sk-text-repr-fallback {display: none;}</style><div id=\"sk-container-id-4\" class=\"sk-top-container\"><div class=\"sk-text-repr-fallback\"><pre>RidgeCV(cv=5)</pre><b>In a Jupyter environment, please rerun this cell to show the HTML representation or trust the notebook. <br />On GitHub, the HTML representation is unable to render, please try loading this page with nbviewer.org.</b></div><div class=\"sk-container\" hidden><div class=\"sk-item\"><div class=\"sk-estimator sk-toggleable\"><input class=\"sk-toggleable__control sk-hidden--visually\" id=\"sk-estimator-id-4\" type=\"checkbox\" checked><label for=\"sk-estimator-id-4\" class=\"sk-toggleable__label sk-toggleable__label-arrow\">RidgeCV</label><div class=\"sk-toggleable__content\"><pre>RidgeCV(cv=5)</pre></div></div></div></div></div>"
      ],
      "text/plain": [
       "RidgeCV(cv=5)"
      ]
     },
     "execution_count": 37,
     "metadata": {},
     "output_type": "execute_result"
    }
   ],
   "source": [
    "from sklearn.linear_model import RidgeCV\n",
    "rcv=RidgeCV(cv=5)\n",
    "rcv.fit(X_train,y_train)"
   ]
  },
  {
   "cell_type": "code",
   "execution_count": 38,
   "id": "acd3547e",
   "metadata": {
    "execution": {
     "iopub.execute_input": "2023-11-29T19:48:53.471584Z",
     "iopub.status.busy": "2023-11-29T19:48:53.471178Z",
     "iopub.status.idle": "2023-11-29T19:48:53.483895Z",
     "shell.execute_reply": "2023-11-29T19:48:53.482458Z"
    },
    "papermill": {
     "duration": 0.069129,
     "end_time": "2023-11-29T19:48:53.488023",
     "exception": false,
     "start_time": "2023-11-29T19:48:53.418894",
     "status": "completed"
    },
    "tags": []
   },
   "outputs": [
    {
     "name": "stdout",
     "output_type": "stream",
     "text": [
      "0.6917167365080847\n"
     ]
    }
   ],
   "source": [
    "rcv_pred=rcv.predict(X_test)\n",
    "print(r2_score(y_test,rcv_pred))"
   ]
  },
  {
   "cell_type": "code",
   "execution_count": 39,
   "id": "04315484",
   "metadata": {
    "execution": {
     "iopub.execute_input": "2023-11-29T19:48:53.606600Z",
     "iopub.status.busy": "2023-11-29T19:48:53.606130Z",
     "iopub.status.idle": "2023-11-29T19:48:54.005408Z",
     "shell.execute_reply": "2023-11-29T19:48:54.003279Z"
    },
    "papermill": {
     "duration": 0.460124,
     "end_time": "2023-11-29T19:48:54.008640",
     "exception": false,
     "start_time": "2023-11-29T19:48:53.548516",
     "status": "completed"
    },
    "tags": []
   },
   "outputs": [
    {
     "data": {
      "image/png": "[encoded data removed]",
      "text/plain": [
       "<Figure size 640x480 with 1 Axes>"
      ]
     },
     "metadata": {},
     "output_type": "display_data"
    }
   ],
   "source": [
    "plt.plot(y_test)\n",
    "plt.plot(rcv_pred)\n",
    "plt.show()"
   ]
  },
  {
   "cell_type": "markdown",
   "id": "9022765f",
   "metadata": {
    "papermill": {
     "duration": 0.02919,
     "end_time": "2023-11-29T19:48:54.067613",
     "exception": false,
     "start_time": "2023-11-29T19:48:54.038423",
     "status": "completed"
    },
    "tags": []
   },
   "source": [
    "## LassoCV"
   ]
  },
  {
   "cell_type": "code",
   "execution_count": 40,
   "id": "aba4b90b",
   "metadata": {
    "execution": {
     "iopub.execute_input": "2023-11-29T19:48:54.130337Z",
     "iopub.status.busy": "2023-11-29T19:48:54.129512Z",
     "iopub.status.idle": "2023-11-29T19:48:55.550279Z",
     "shell.execute_reply": "2023-11-29T19:48:55.547368Z"
    },
    "papermill": {
     "duration": 1.457438,
     "end_time": "2023-11-29T19:48:55.554652",
     "exception": false,
     "start_time": "2023-11-29T19:48:54.097214",
     "status": "completed"
    },
    "tags": []
   },
   "outputs": [],
   "source": [
    "from sklearn.linear_model import LassoCV\n",
    "lcv=LassoCV(cv=5)\n",
    "lcv.fit(X_train,y_train)\n",
    "lcv_pred=lcv.predict(X_test)"
   ]
  },
  {
   "cell_type": "code",
   "execution_count": 41,
   "id": "6ca8e457",
   "metadata": {
    "execution": {
     "iopub.execute_input": "2023-11-29T19:48:55.697729Z",
     "iopub.status.busy": "2023-11-29T19:48:55.697254Z",
     "iopub.status.idle": "2023-11-29T19:48:55.705522Z",
     "shell.execute_reply": "2023-11-29T19:48:55.704304Z"
    },
    "papermill": {
     "duration": 0.047859,
     "end_time": "2023-11-29T19:48:55.708625",
     "exception": false,
     "start_time": "2023-11-29T19:48:55.660766",
     "status": "completed"
    },
    "tags": []
   },
   "outputs": [
    {
     "name": "stdout",
     "output_type": "stream",
     "text": [
      "0.6916425046017306\n"
     ]
    }
   ],
   "source": [
    "print(r2_score(y_test,lcv_pred))"
   ]
  },
  {
   "cell_type": "code",
   "execution_count": 42,
   "id": "61b8871b",
   "metadata": {
    "execution": {
     "iopub.execute_input": "2023-11-29T19:48:55.771688Z",
     "iopub.status.busy": "2023-11-29T19:48:55.770849Z",
     "iopub.status.idle": "2023-11-29T19:48:56.164717Z",
     "shell.execute_reply": "2023-11-29T19:48:56.163290Z"
    },
    "papermill": {
     "duration": 0.427689,
     "end_time": "2023-11-29T19:48:56.167707",
     "exception": false,
     "start_time": "2023-11-29T19:48:55.740018",
     "status": "completed"
    },
    "tags": []
   },
   "outputs": [
    {
     "data": {
      "image/png": "[encoded data removed]",
      "text/plain": [
       "<Figure size 640x480 with 1 Axes>"
      ]
     },
     "metadata": {},
     "output_type": "display_data"
    }
   ],
   "source": [
    "plt.plot(y_test)\n",
    "plt.plot(lcv_pred)\n",
    "plt.show()"
   ]
  },
  {
   "cell_type": "markdown",
   "id": "fd4129e3",
   "metadata": {
    "papermill": {
     "duration": 0.031206,
     "end_time": "2023-11-29T19:48:56.229038",
     "exception": false,
     "start_time": "2023-11-29T19:48:56.197832",
     "status": "completed"
    },
    "tags": []
   },
   "source": [
    "## XGBRegressor"
   ]
  },
  {
   "cell_type": "code",
   "execution_count": 43,
   "id": "55479cde",
   "metadata": {
    "execution": {
     "iopub.execute_input": "2023-11-29T19:48:56.295498Z",
     "iopub.status.busy": "2023-11-29T19:48:56.294638Z",
     "iopub.status.idle": "2023-11-29T19:49:08.228387Z",
     "shell.execute_reply": "2023-11-29T19:49:08.227466Z"
    },
    "papermill": {
     "duration": 11.971206,
     "end_time": "2023-11-29T19:49:08.231494",
     "exception": false,
     "start_time": "2023-11-29T19:48:56.260288",
     "status": "completed"
    },
    "tags": []
   },
   "outputs": [
    {
     "data": {
      "text/html": [
       "<style>#sk-container-id-5 {color: black;background-color: white;}#sk-container-id-5 pre{padding: 0;}#sk-container-id-5 div.sk-toggleable {background-color: white;}#sk-container-id-5 label.sk-toggleable__label {cursor: pointer;display: block;width: 100%;margin-bottom: 0;padding: 0.3em;box-sizing: border-box;text-align: center;}#sk-container-id-5 label.sk-toggleable__label-arrow:before {content: \"▸\";float: left;margin-right: 0.25em;color: #696969;}#sk-container-id-5 label.sk-toggleable__label-arrow:hover:before {color: black;}#sk-container-id-5 div.sk-estimator:hover label.sk-toggleable__label-arrow:before {color: black;}#sk-container-id-5 div.sk-toggleable__content {max-height: 0;max-width: 0;overflow: hidden;text-align: left;background-color: #f0f8ff;}#sk-container-id-5 div.sk-toggleable__content pre {margin: 0.2em;color: black;border-radius: 0.25em;background-color: #f0f8ff;}#sk-container-id-5 input.sk-toggleable__control:checked~div.sk-toggleable__content {max-height: 200px;max-width: 100%;overflow: auto;}#sk-container-id-5 input.sk-toggleable__control:checked~label.sk-toggleable__label-arrow:before {content: \"▾\";}#sk-container-id-5 div.sk-estimator input.sk-toggleable__control:checked~label.sk-toggleable__label {background-color: #d4ebff;}#sk-container-id-5 div.sk-label input.sk-toggleable__control:checked~label.sk-toggleable__label {background-color: #d4ebff;}#sk-container-id-5 input.sk-hidden--visually {border: 0;clip: rect(1px 1px 1px 1px);clip: rect(1px, 1px, 1px, 1px);height: 1px;margin: -1px;overflow: hidden;padding: 0;position: absolute;width: 1px;}#sk-container-id-5 div.sk-estimator {font-family: monospace;background-color: #f0f8ff;border: 1px dotted black;border-radius: 0.25em;box-sizing: border-box;margin-bottom: 0.5em;}#sk-container-id-5 div.sk-estimator:hover {background-color: #d4ebff;}#sk-container-id-5 div.sk-parallel-item::after {content: \"\";width: 100%;border-bottom: 1px solid gray;flex-grow: 1;}#sk-container-id-5 div.sk-label:hover label.sk-toggleable__label {background-color: #d4ebff;}#sk-container-id-5 div.sk-serial::before {content: \"\";position: absolute;border-left: 1px solid gray;box-sizing: border-box;top: 0;bottom: 0;left: 50%;z-index: 0;}#sk-container-id-5 div.sk-serial {display: flex;flex-direction: column;align-items: center;background-color: white;padding-right: 0.2em;padding-left: 0.2em;position: relative;}#sk-container-id-5 div.sk-item {position: relative;z-index: 1;}#sk-container-id-5 div.sk-parallel {display: flex;align-items: stretch;justify-content: center;background-color: white;position: relative;}#sk-container-id-5 div.sk-item::before, #sk-container-id-5 div.sk-parallel-item::before {content: \"\";position: absolute;border-left: 1px solid gray;box-sizing: border-box;top: 0;bottom: 0;left: 50%;z-index: -1;}#sk-container-id-5 div.sk-parallel-item {display: flex;flex-direction: column;z-index: 1;position: relative;background-color: white;}#sk-container-id-5 div.sk-parallel-item:first-child::after {align-self: flex-end;width: 50%;}#sk-container-id-5 div.sk-parallel-item:last-child::after {align-self: flex-start;width: 50%;}#sk-container-id-5 div.sk-parallel-item:only-child::after {width: 0;}#sk-container-id-5 div.sk-dashed-wrapped {border: 1px dashed gray;margin: 0 0.4em 0.5em 0.4em;box-sizing: border-box;padding-bottom: 0.4em;background-color: white;}#sk-container-id-5 div.sk-label label {font-family: monospace;font-weight: bold;display: inline-block;line-height: 1.2em;}#sk-container-id-5 div.sk-label-container {text-align: center;}#sk-container-id-5 div.sk-container {/* jupyter's `normalize.less` sets `[hidden] { display: none; }` but bootstrap.min.css set `[hidden] { display: none !important; }` so we also need the `!important` here to be able to override the default hidden behavior on the sphinx rendered scikit-learn.org. See: https://github.com/scikit-learn/scikit-learn/issues/21755 */display: inline-block !important;position: relative;}#sk-container-id-5 div.sk-text-repr-fallback {display: none;}</style><div id=\"sk-container-id-5\" class=\"sk-top-container\"><div class=\"sk-text-repr-fallback\"><pre>XGBRegressor(base_score=None, booster=None, callbacks=None,\n",
       "             colsample_bylevel=None, colsample_bynode=None,\n",
       "             colsample_bytree=None, early_stopping_rounds=None,\n",
       "             enable_categorical=False, eval_metric=None, feature_types=None,\n",
       "             gamma=None, gpu_id=None, grow_policy=None, importance_type=None,\n",
       "             interaction_constraints=None, learning_rate=None, max_bin=None,\n",
       "             max_cat_threshold=None, max_cat_to_onehot=None,\n",
       "             max_delta_step=None, max_depth=None, max_leaves=None,\n",
       "             min_child_weight=None, missing=nan, monotone_constraints=None,\n",
       "             n_estimators=100, n_jobs=None, num_parallel_tree=None,\n",
       "             predictor=None, random_state=None, ...)</pre><b>In a Jupyter environment, please rerun this cell to show the HTML representation or trust the notebook. <br />On GitHub, the HTML representation is unable to render, please try loading this page with nbviewer.org.</b></div><div class=\"sk-container\" hidden><div class=\"sk-item\"><div class=\"sk-estimator sk-toggleable\"><input class=\"sk-toggleable__control sk-hidden--visually\" id=\"sk-estimator-id-5\" type=\"checkbox\" checked><label for=\"sk-estimator-id-5\" class=\"sk-toggleable__label sk-toggleable__label-arrow\">XGBRegressor</label><div class=\"sk-toggleable__content\"><pre>XGBRegressor(base_score=None, booster=None, callbacks=None,\n",
       "             colsample_bylevel=None, colsample_bynode=None,\n",
       "             colsample_bytree=None, early_stopping_rounds=None,\n",
       "             enable_categorical=False, eval_metric=None, feature_types=None,\n",
       "             gamma=None, gpu_id=None, grow_policy=None, importance_type=None,\n",
       "             interaction_constraints=None, learning_rate=None, max_bin=None,\n",
       "             max_cat_threshold=None, max_cat_to_onehot=None,\n",
       "             max_delta_step=None, max_depth=None, max_leaves=None,\n",
       "             min_child_weight=None, missing=nan, monotone_constraints=None,\n",
       "             n_estimators=100, n_jobs=None, num_parallel_tree=None,\n",
       "             predictor=None, random_state=None, ...)</pre></div></div></div></div></div>"
      ],
      "text/plain": [
       "XGBRegressor(base_score=None, booster=None, callbacks=None,\n",
       "             colsample_bylevel=None, colsample_bynode=None,\n",
       "             colsample_bytree=None, early_stopping_rounds=None,\n",
       "             enable_categorical=False, eval_metric=None, feature_types=None,\n",
       "             gamma=None, gpu_id=None, grow_policy=None, importance_type=None,\n",
       "             interaction_constraints=None, learning_rate=None, max_bin=None,\n",
       "             max_cat_threshold=None, max_cat_to_onehot=None,\n",
       "             max_delta_step=None, max_depth=None, max_leaves=None,\n",
       "             min_child_weight=None, missing=nan, monotone_constraints=None,\n",
       "             n_estimators=100, n_jobs=None, num_parallel_tree=None,\n",
       "             predictor=None, random_state=None, ...)"
      ]
     },
     "execution_count": 43,
     "metadata": {},
     "output_type": "execute_result"
    }
   ],
   "source": [
    "from xgboost import XGBRegressor\n",
    "xgb=XGBRegressor()\n",
    "xgb.fit(X_train,y_train)"
   ]
  },
  {
   "cell_type": "code",
   "execution_count": 44,
   "id": "4bdd1f22",
   "metadata": {
    "execution": {
     "iopub.execute_input": "2023-11-29T19:49:08.297121Z",
     "iopub.status.busy": "2023-11-29T19:49:08.295565Z",
     "iopub.status.idle": "2023-11-29T19:49:08.342646Z",
     "shell.execute_reply": "2023-11-29T19:49:08.341511Z"
    },
    "papermill": {
     "duration": 0.082172,
     "end_time": "2023-11-29T19:49:08.345446",
     "exception": false,
     "start_time": "2023-11-29T19:49:08.263274",
     "status": "completed"
    },
    "tags": []
   },
   "outputs": [
    {
     "name": "stdout",
     "output_type": "stream",
     "text": [
      "0.9560780206057387\n"
     ]
    }
   ],
   "source": [
    "xgb_pred=xgb.predict(X_test)\n",
    "print(r2_score(y_test,xgb_pred))"
   ]
  },
  {
   "cell_type": "code",
   "execution_count": 45,
   "id": "765fb9ce",
   "metadata": {
    "execution": {
     "iopub.execute_input": "2023-11-29T19:49:08.414114Z",
     "iopub.status.busy": "2023-11-29T19:49:08.413619Z",
     "iopub.status.idle": "2023-11-29T19:49:08.816622Z",
     "shell.execute_reply": "2023-11-29T19:49:08.815267Z"
    },
    "papermill": {
     "duration": 0.440001,
     "end_time": "2023-11-29T19:49:08.819948",
     "exception": false,
     "start_time": "2023-11-29T19:49:08.379947",
     "status": "completed"
    },
    "tags": []
   },
   "outputs": [
    {
     "data": {
      "image/png": "[encoded data removed]",
      "text/plain": [
       "<Figure size 640x480 with 1 Axes>"
      ]
     },
     "metadata": {},
     "output_type": "display_data"
    }
   ],
   "source": [
    "plt.plot(y_test)\n",
    "plt.plot(xgb_pred)\n",
    "plt.show()"
   ]
  },
  {
   "cell_type": "markdown",
   "id": "55e858d9",
   "metadata": {
    "papermill": {
     "duration": 0.032068,
     "end_time": "2023-11-29T19:49:08.887436",
     "exception": false,
     "start_time": "2023-11-29T19:49:08.855368",
     "status": "completed"
    },
    "tags": []
   },
   "source": [
    "## GradientBoostingRegressor"
   ]
  },
  {
   "cell_type": "code",
   "execution_count": 46,
   "id": "128a12b8",
   "metadata": {
    "execution": {
     "iopub.execute_input": "2023-11-29T19:49:08.956693Z",
     "iopub.status.busy": "2023-11-29T19:49:08.955666Z",
     "iopub.status.idle": "2023-11-29T19:49:38.397963Z",
     "shell.execute_reply": "2023-11-29T19:49:38.396630Z"
    },
    "papermill": {
     "duration": 29.481624,
     "end_time": "2023-11-29T19:49:38.401289",
     "exception": false,
     "start_time": "2023-11-29T19:49:08.919665",
     "status": "completed"
    },
    "tags": []
   },
   "outputs": [
    {
     "data": {
      "text/html": [
       "<style>#sk-container-id-6 {color: black;background-color: white;}#sk-container-id-6 pre{padding: 0;}#sk-container-id-6 div.sk-toggleable {background-color: white;}#sk-container-id-6 label.sk-toggleable__label {cursor: pointer;display: block;width: 100%;margin-bottom: 0;padding: 0.3em;box-sizing: border-box;text-align: center;}#sk-container-id-6 label.sk-toggleable__label-arrow:before {content: \"▸\";float: left;margin-right: 0.25em;color: #696969;}#sk-container-id-6 label.sk-toggleable__label-arrow:hover:before {color: black;}#sk-container-id-6 div.sk-estimator:hover label.sk-toggleable__label-arrow:before {color: black;}#sk-container-id-6 div.sk-toggleable__content {max-height: 0;max-width: 0;overflow: hidden;text-align: left;background-color: #f0f8ff;}#sk-container-id-6 div.sk-toggleable__content pre {margin: 0.2em;color: black;border-radius: 0.25em;background-color: #f0f8ff;}#sk-container-id-6 input.sk-toggleable__control:checked~div.sk-toggleable__content {max-height: 200px;max-width: 100%;overflow: auto;}#sk-container-id-6 input.sk-toggleable__control:checked~label.sk-toggleable__label-arrow:before {content: \"▾\";}#sk-container-id-6 div.sk-estimator input.sk-toggleable__control:checked~label.sk-toggleable__label {background-color: #d4ebff;}#sk-container-id-6 div.sk-label input.sk-toggleable__control:checked~label.sk-toggleable__label {background-color: #d4ebff;}#sk-container-id-6 input.sk-hidden--visually {border: 0;clip: rect(1px 1px 1px 1px);clip: rect(1px, 1px, 1px, 1px);height: 1px;margin: -1px;overflow: hidden;padding: 0;position: absolute;width: 1px;}#sk-container-id-6 div.sk-estimator {font-family: monospace;background-color: #f0f8ff;border: 1px dotted black;border-radius: 0.25em;box-sizing: border-box;margin-bottom: 0.5em;}#sk-container-id-6 div.sk-estimator:hover {background-color: #d4ebff;}#sk-container-id-6 div.sk-parallel-item::after {content: \"\";width: 100%;border-bottom: 1px solid gray;flex-grow: 1;}#sk-container-id-6 div.sk-label:hover label.sk-toggleable__label {background-color: #d4ebff;}#sk-container-id-6 div.sk-serial::before {content: \"\";position: absolute;border-left: 1px solid gray;box-sizing: border-box;top: 0;bottom: 0;left: 50%;z-index: 0;}#sk-container-id-6 div.sk-serial {display: flex;flex-direction: column;align-items: center;background-color: white;padding-right: 0.2em;padding-left: 0.2em;position: relative;}#sk-container-id-6 div.sk-item {position: relative;z-index: 1;}#sk-container-id-6 div.sk-parallel {display: flex;align-items: stretch;justify-content: center;background-color: white;position: relative;}#sk-container-id-6 div.sk-item::before, #sk-container-id-6 div.sk-parallel-item::before {content: \"\";position: absolute;border-left: 1px solid gray;box-sizing: border-box;top: 0;bottom: 0;left: 50%;z-index: -1;}#sk-container-id-6 div.sk-parallel-item {display: flex;flex-direction: column;z-index: 1;position: relative;background-color: white;}#sk-container-id-6 div.sk-parallel-item:first-child::after {align-self: flex-end;width: 50%;}#sk-container-id-6 div.sk-parallel-item:last-child::after {align-self: flex-start;width: 50%;}#sk-container-id-6 div.sk-parallel-item:only-child::after {width: 0;}#sk-container-id-6 div.sk-dashed-wrapped {border: 1px dashed gray;margin: 0 0.4em 0.5em 0.4em;box-sizing: border-box;padding-bottom: 0.4em;background-color: white;}#sk-container-id-6 div.sk-label label {font-family: monospace;font-weight: bold;display: inline-block;line-height: 1.2em;}#sk-container-id-6 div.sk-label-container {text-align: center;}#sk-container-id-6 div.sk-container {/* jupyter's `normalize.less` sets `[hidden] { display: none; }` but bootstrap.min.css set `[hidden] { display: none !important; }` so we also need the `!important` here to be able to override the default hidden behavior on the sphinx rendered scikit-learn.org. See: https://github.com/scikit-learn/scikit-learn/issues/21755 */display: inline-block !important;position: relative;}#sk-container-id-6 div.sk-text-repr-fallback {display: none;}</style><div id=\"sk-container-id-6\" class=\"sk-top-container\"><div class=\"sk-text-repr-fallback\"><pre>GradientBoostingRegressor()</pre><b>In a Jupyter environment, please rerun this cell to show the HTML representation or trust the notebook. <br />On GitHub, the HTML representation is unable to render, please try loading this page with nbviewer.org.</b></div><div class=\"sk-container\" hidden><div class=\"sk-item\"><div class=\"sk-estimator sk-toggleable\"><input class=\"sk-toggleable__control sk-hidden--visually\" id=\"sk-estimator-id-6\" type=\"checkbox\" checked><label for=\"sk-estimator-id-6\" class=\"sk-toggleable__label sk-toggleable__label-arrow\">GradientBoostingRegressor</label><div class=\"sk-toggleable__content\"><pre>GradientBoostingRegressor()</pre></div></div></div></div></div>"
      ],
      "text/plain": [
       "GradientBoostingRegressor()"
      ]
     },
     "execution_count": 46,
     "metadata": {},
     "output_type": "execute_result"
    }
   ],
   "source": [
    "from sklearn.ensemble import GradientBoostingRegressor\n",
    "\n",
    "gbr=GradientBoostingRegressor()\n",
    "\n",
    "gbr.fit(X_train,y_train)"
   ]
  },
  {
   "cell_type": "code",
   "execution_count": 47,
   "id": "2e5fe066",
   "metadata": {
    "execution": {
     "iopub.execute_input": "2023-11-29T19:49:38.468907Z",
     "iopub.status.busy": "2023-11-29T19:49:38.468427Z",
     "iopub.status.idle": "2023-11-29T19:49:38.522938Z",
     "shell.execute_reply": "2023-11-29T19:49:38.521418Z"
    },
    "papermill": {
     "duration": 0.091909,
     "end_time": "2023-11-29T19:49:38.525708",
     "exception": false,
     "start_time": "2023-11-29T19:49:38.433799",
     "status": "completed"
    },
    "tags": []
   },
   "outputs": [
    {
     "name": "stdout",
     "output_type": "stream",
     "text": [
      "0.9438741466951268\n"
     ]
    }
   ],
   "source": [
    "gbr_pred=gbr.predict(X_test)\n",
    "print(r2_score(y_test,gbr_pred))"
   ]
  },
  {
   "cell_type": "code",
   "execution_count": 48,
   "id": "7c107dba",
   "metadata": {
    "execution": {
     "iopub.execute_input": "2023-11-29T19:49:38.592105Z",
     "iopub.status.busy": "2023-11-29T19:49:38.591162Z",
     "iopub.status.idle": "2023-11-29T19:49:39.006625Z",
     "shell.execute_reply": "2023-11-29T19:49:38.999887Z"
    },
    "papermill": {
     "duration": 0.452175,
     "end_time": "2023-11-29T19:49:39.010062",
     "exception": false,
     "start_time": "2023-11-29T19:49:38.557887",
     "status": "completed"
    },
    "tags": []
   },
   "outputs": [
    {
     "data": {
      "image/png": "[encoded data removed]",
      "text/plain": [
       "<Figure size 640x480 with 1 Axes>"
      ]
     },
     "metadata": {},
     "output_type": "display_data"
    }
   ],
   "source": [
    "plt.plot(y_test)\n",
    "plt.plot(gbr_pred)\n",
    "plt.show()"
   ]
  },
  {
   "cell_type": "markdown",
   "id": "5ac68f98",
   "metadata": {
    "papermill": {
     "duration": 0.032696,
     "end_time": "2023-11-29T19:49:39.075421",
     "exception": false,
     "start_time": "2023-11-29T19:49:39.042725",
     "status": "completed"
    },
    "tags": []
   },
   "source": [
    "# Fine Tuning the Optimal Models with best results "
   ]
  },
  {
   "cell_type": "markdown",
   "id": "39b40ff3",
   "metadata": {
    "papermill": {
     "duration": 0.032796,
     "end_time": "2023-11-29T19:49:39.140370",
     "exception": false,
     "start_time": "2023-11-29T19:49:39.107574",
     "status": "completed"
    },
    "tags": []
   },
   "source": [
    "## GradientBoostingRegressor"
   ]
  },
  {
   "cell_type": "code",
   "execution_count": 49,
   "id": "c19c520a",
   "metadata": {
    "execution": {
     "iopub.execute_input": "2023-11-29T19:49:39.210042Z",
     "iopub.status.busy": "2023-11-29T19:49:39.208437Z",
     "iopub.status.idle": "2023-11-29T19:49:39.215496Z",
     "shell.execute_reply": "2023-11-29T19:49:39.214081Z"
    },
    "papermill": {
     "duration": 0.04575,
     "end_time": "2023-11-29T19:49:39.218719",
     "exception": false,
     "start_time": "2023-11-29T19:49:39.172969",
     "status": "completed"
    },
    "tags": []
   },
   "outputs": [],
   "source": [
    "# from sklearn.model_selection import GridSearchCV\n",
    "# gbr_fine_tuned = GradientBoostingRegressor()\n",
    "\n",
    "# param_grid = {\n",
    "#     'n_estimators': [50,100,200],\n",
    "#     'learning_rate': [0.01, 0.1, 0.2],\n",
    "#     'max_depth': [3, 4, 5],\n",
    "#     'min_samples_split': [2, 5, 10],\n",
    "# }\n",
    "\n",
    "# # Initialize GridSearchCV\n",
    "# grid_search = GridSearchCV(\n",
    "#     estimator=gbr_fine_tuned,\n",
    "#     param_grid=param_grid,\n",
    "#     scoring='neg_mean_squared_error',\n",
    "#     cv=5,\n",
    "#     n_jobs=-1,\n",
    "#     verbose=2,\n",
    "# )\n",
    "\n",
    "# # Fit the model with hyperparameter tuning\n",
    "# grid_search.fit(X_train, y_train)\n",
    "\n",
    "##grid_search.best_params_ = {'learning_rate': 0.1, 'max_depth': 5, 'min_samples_split': 10, 'n_estimators': 200}"
   ]
  },
  {
   "cell_type": "code",
   "execution_count": 50,
   "id": "a41a3a72",
   "metadata": {
    "execution": {
     "iopub.execute_input": "2023-11-29T19:49:39.292775Z",
     "iopub.status.busy": "2023-11-29T19:49:39.292248Z",
     "iopub.status.idle": "2023-11-29T19:49:39.297545Z",
     "shell.execute_reply": "2023-11-29T19:49:39.296403Z"
    },
    "papermill": {
     "duration": 0.04779,
     "end_time": "2023-11-29T19:49:39.300215",
     "exception": false,
     "start_time": "2023-11-29T19:49:39.252425",
     "status": "completed"
    },
    "tags": []
   },
   "outputs": [],
   "source": [
    "# # Get the best parameters and best model\n",
    "# best_params = grid_search.best_params_\n",
    "# # best_model = grid_search.best_estimator_\n",
    "# print(best_params)\n"
   ]
  },
  {
   "cell_type": "code",
   "execution_count": 51,
   "id": "c1f81404",
   "metadata": {
    "execution": {
     "iopub.execute_input": "2023-11-29T19:49:39.368995Z",
     "iopub.status.busy": "2023-11-29T19:49:39.368458Z",
     "iopub.status.idle": "2023-11-29T19:51:15.645491Z",
     "shell.execute_reply": "2023-11-29T19:51:15.644043Z"
    },
    "papermill": {
     "duration": 96.349085,
     "end_time": "2023-11-29T19:51:15.682736",
     "exception": false,
     "start_time": "2023-11-29T19:49:39.333651",
     "status": "completed"
    },
    "tags": []
   },
   "outputs": [
    {
     "data": {
      "text/html": [
       "<style>#sk-container-id-7 {color: black;background-color: white;}#sk-container-id-7 pre{padding: 0;}#sk-container-id-7 div.sk-toggleable {background-color: white;}#sk-container-id-7 label.sk-toggleable__label {cursor: pointer;display: block;width: 100%;margin-bottom: 0;padding: 0.3em;box-sizing: border-box;text-align: center;}#sk-container-id-7 label.sk-toggleable__label-arrow:before {content: \"▸\";float: left;margin-right: 0.25em;color: #696969;}#sk-container-id-7 label.sk-toggleable__label-arrow:hover:before {color: black;}#sk-container-id-7 div.sk-estimator:hover label.sk-toggleable__label-arrow:before {color: black;}#sk-container-id-7 div.sk-toggleable__content {max-height: 0;max-width: 0;overflow: hidden;text-align: left;background-color: #f0f8ff;}#sk-container-id-7 div.sk-toggleable__content pre {margin: 0.2em;color: black;border-radius: 0.25em;background-color: #f0f8ff;}#sk-container-id-7 input.sk-toggleable__control:checked~div.sk-toggleable__content {max-height: 200px;max-width: 100%;overflow: auto;}#sk-container-id-7 input.sk-toggleable__control:checked~label.sk-toggleable__label-arrow:before {content: \"▾\";}#sk-container-id-7 div.sk-estimator input.sk-toggleable__control:checked~label.sk-toggleable__label {background-color: #d4ebff;}#sk-container-id-7 div.sk-label input.sk-toggleable__control:checked~label.sk-toggleable__label {background-color: #d4ebff;}#sk-container-id-7 input.sk-hidden--visually {border: 0;clip: rect(1px 1px 1px 1px);clip: rect(1px, 1px, 1px, 1px);height: 1px;margin: -1px;overflow: hidden;padding: 0;position: absolute;width: 1px;}#sk-container-id-7 div.sk-estimator {font-family: monospace;background-color: #f0f8ff;border: 1px dotted black;border-radius: 0.25em;box-sizing: border-box;margin-bottom: 0.5em;}#sk-container-id-7 div.sk-estimator:hover {background-color: #d4ebff;}#sk-container-id-7 div.sk-parallel-item::after {content: \"\";width: 100%;border-bottom: 1px solid gray;flex-grow: 1;}#sk-container-id-7 div.sk-label:hover label.sk-toggleable__label {background-color: #d4ebff;}#sk-container-id-7 div.sk-serial::before {content: \"\";position: absolute;border-left: 1px solid gray;box-sizing: border-box;top: 0;bottom: 0;left: 50%;z-index: 0;}#sk-container-id-7 div.sk-serial {display: flex;flex-direction: column;align-items: center;background-color: white;padding-right: 0.2em;padding-left: 0.2em;position: relative;}#sk-container-id-7 div.sk-item {position: relative;z-index: 1;}#sk-container-id-7 div.sk-parallel {display: flex;align-items: stretch;justify-content: center;background-color: white;position: relative;}#sk-container-id-7 div.sk-item::before, #sk-container-id-7 div.sk-parallel-item::before {content: \"\";position: absolute;border-left: 1px solid gray;box-sizing: border-box;top: 0;bottom: 0;left: 50%;z-index: -1;}#sk-container-id-7 div.sk-parallel-item {display: flex;flex-direction: column;z-index: 1;position: relative;background-color: white;}#sk-container-id-7 div.sk-parallel-item:first-child::after {align-self: flex-end;width: 50%;}#sk-container-id-7 div.sk-parallel-item:last-child::after {align-self: flex-start;width: 50%;}#sk-container-id-7 div.sk-parallel-item:only-child::after {width: 0;}#sk-container-id-7 div.sk-dashed-wrapped {border: 1px dashed gray;margin: 0 0.4em 0.5em 0.4em;box-sizing: border-box;padding-bottom: 0.4em;background-color: white;}#sk-container-id-7 div.sk-label label {font-family: monospace;font-weight: bold;display: inline-block;line-height: 1.2em;}#sk-container-id-7 div.sk-label-container {text-align: center;}#sk-container-id-7 div.sk-container {/* jupyter's `normalize.less` sets `[hidden] { display: none; }` but bootstrap.min.css set `[hidden] { display: none !important; }` so we also need the `!important` here to be able to override the default hidden behavior on the sphinx rendered scikit-learn.org. See: https://github.com/scikit-learn/scikit-learn/issues/21755 */display: inline-block !important;position: relative;}#sk-container-id-7 div.sk-text-repr-fallback {display: none;}</style><div id=\"sk-container-id-7\" class=\"sk-top-container\"><div class=\"sk-text-repr-fallback\"><pre>GradientBoostingRegressor(max_depth=5, min_samples_split=10, n_estimators=200)</pre><b>In a Jupyter environment, please rerun this cell to show the HTML representation or trust the notebook. <br />On GitHub, the HTML representation is unable to render, please try loading this page with nbviewer.org.</b></div><div class=\"sk-container\" hidden><div class=\"sk-item\"><div class=\"sk-estimator sk-toggleable\"><input class=\"sk-toggleable__control sk-hidden--visually\" id=\"sk-estimator-id-7\" type=\"checkbox\" checked><label for=\"sk-estimator-id-7\" class=\"sk-toggleable__label sk-toggleable__label-arrow\">GradientBoostingRegressor</label><div class=\"sk-toggleable__content\"><pre>GradientBoostingRegressor(max_depth=5, min_samples_split=10, n_estimators=200)</pre></div></div></div></div></div>"
      ],
      "text/plain": [
       "GradientBoostingRegressor(max_depth=5, min_samples_split=10, n_estimators=200)"
      ]
     },
     "execution_count": 51,
     "metadata": {},
     "output_type": "execute_result"
    }
   ],
   "source": [
    "best_gbr_model = GradientBoostingRegressor(learning_rate= 0.1, max_depth=5, min_samples_split=10, n_estimators=200)\n",
    "best_gbr_model.fit(X_train,y_train)"
   ]
  },
  {
   "cell_type": "code",
   "execution_count": 52,
   "id": "61baa2f3",
   "metadata": {
    "execution": {
     "iopub.execute_input": "2023-11-29T19:51:15.752688Z",
     "iopub.status.busy": "2023-11-29T19:51:15.752230Z",
     "iopub.status.idle": "2023-11-29T19:51:15.895776Z",
     "shell.execute_reply": "2023-11-29T19:51:15.894321Z"
    },
    "papermill": {
     "duration": 0.182304,
     "end_time": "2023-11-29T19:51:15.899045",
     "exception": false,
     "start_time": "2023-11-29T19:51:15.716741",
     "status": "completed"
    },
    "tags": []
   },
   "outputs": [
    {
     "name": "stdout",
     "output_type": "stream",
     "text": [
      "0.9536491781330612\n"
     ]
    }
   ],
   "source": [
    "best_gbr_pred = best_gbr_model.predict(X_test)\n",
    "print(r2_score(y_test,best_gbr_pred))"
   ]
  },
  {
   "cell_type": "markdown",
   "id": "cf31e152",
   "metadata": {
    "papermill": {
     "duration": 0.033927,
     "end_time": "2023-11-29T19:51:15.967003",
     "exception": false,
     "start_time": "2023-11-29T19:51:15.933076",
     "status": "completed"
    },
    "tags": []
   },
   "source": [
    "## XGBRegressor"
   ]
  },
  {
   "cell_type": "code",
   "execution_count": 53,
   "id": "9d93d104",
   "metadata": {
    "execution": {
     "iopub.execute_input": "2023-11-29T19:51:16.041649Z",
     "iopub.status.busy": "2023-11-29T19:51:16.041194Z",
     "iopub.status.idle": "2023-11-29T19:51:16.047864Z",
     "shell.execute_reply": "2023-11-29T19:51:16.046470Z"
    },
    "papermill": {
     "duration": 0.049172,
     "end_time": "2023-11-29T19:51:16.050782",
     "exception": false,
     "start_time": "2023-11-29T19:51:16.001610",
     "status": "completed"
    },
    "tags": []
   },
   "outputs": [],
   "source": [
    "# from sklearn.model_selection import GridSearchCV\n",
    "# xgb_fine_tuned = XGBRegressor()\n",
    "\n",
    "# # Define a grid of parameters to search\n",
    "# param_grid = {\n",
    "#     'n_estimators': [100, 200, 300],\n",
    "#     'learning_rate': [0.01, 0.1, 0.2],\n",
    "#     'max_depth': [3, 4, 5],\n",
    "#     'subsample': [0.8, 0.9, 1.0],\n",
    "#     'colsample_bytree': [0.8, 0.9, 1.0]\n",
    "# }\n",
    "\n",
    "# # # Initialize GridSearchCV\n",
    "# grid_search = GridSearchCV(\n",
    "#     estimator=xgb_fine_tuned,\n",
    "#     param_grid=param_grid,\n",
    "#     scoring='neg_mean_squared_error',  \n",
    "#     cv=5,  \n",
    "#     n_jobs=-1,  \n",
    "#     verbose=2,  \n",
    "# )\n",
    "\n",
    "# # # Fit the model\n",
    "# grid_search.fit(X_train, y_train)"
   ]
  },
  {
   "cell_type": "code",
   "execution_count": 54,
   "id": "23e39477",
   "metadata": {
    "execution": {
     "iopub.execute_input": "2023-11-29T19:51:16.122281Z",
     "iopub.status.busy": "2023-11-29T19:51:16.121828Z",
     "iopub.status.idle": "2023-11-29T19:51:16.126906Z",
     "shell.execute_reply": "2023-11-29T19:51:16.125664Z"
    },
    "papermill": {
     "duration": 0.043392,
     "end_time": "2023-11-29T19:51:16.129466",
     "exception": false,
     "start_time": "2023-11-29T19:51:16.086074",
     "status": "completed"
    },
    "tags": []
   },
   "outputs": [],
   "source": [
    "# Get the best parameters and best model\n",
    "# best_xgb_params = grid_search.best_params_\n",
    "# # best_model = grid_search.best_estimator_\n",
    "# print(best_xgb_params)\n",
    "# grid_search.best_params_'colsample_bytree': 0.9, 'learning_rate': 0.1, 'max_depth': 5, 'n_estimators': 300, 'subsample': 1.0"
   ]
  },
  {
   "cell_type": "code",
   "execution_count": 55,
   "id": "fad6a466",
   "metadata": {
    "execution": {
     "iopub.execute_input": "2023-11-29T19:51:16.201201Z",
     "iopub.status.busy": "2023-11-29T19:51:16.200758Z",
     "iopub.status.idle": "2023-11-29T19:51:40.853201Z",
     "shell.execute_reply": "2023-11-29T19:51:40.852062Z"
    },
    "papermill": {
     "duration": 24.693013,
     "end_time": "2023-11-29T19:51:40.856729",
     "exception": false,
     "start_time": "2023-11-29T19:51:16.163716",
     "status": "completed"
    },
    "tags": []
   },
   "outputs": [
    {
     "data": {
      "text/html": [
       "<style>#sk-container-id-8 {color: black;background-color: white;}#sk-container-id-8 pre{padding: 0;}#sk-container-id-8 div.sk-toggleable {background-color: white;}#sk-container-id-8 label.sk-toggleable__label {cursor: pointer;display: block;width: 100%;margin-bottom: 0;padding: 0.3em;box-sizing: border-box;text-align: center;}#sk-container-id-8 label.sk-toggleable__label-arrow:before {content: \"▸\";float: left;margin-right: 0.25em;color: #696969;}#sk-container-id-8 label.sk-toggleable__label-arrow:hover:before {color: black;}#sk-container-id-8 div.sk-estimator:hover label.sk-toggleable__label-arrow:before {color: black;}#sk-container-id-8 div.sk-toggleable__content {max-height: 0;max-width: 0;overflow: hidden;text-align: left;background-color: #f0f8ff;}#sk-container-id-8 div.sk-toggleable__content pre {margin: 0.2em;color: black;border-radius: 0.25em;background-color: #f0f8ff;}#sk-container-id-8 input.sk-toggleable__control:checked~div.sk-toggleable__content {max-height: 200px;max-width: 100%;overflow: auto;}#sk-container-id-8 input.sk-toggleable__control:checked~label.sk-toggleable__label-arrow:before {content: \"▾\";}#sk-container-id-8 div.sk-estimator input.sk-toggleable__control:checked~label.sk-toggleable__label {background-color: #d4ebff;}#sk-container-id-8 div.sk-label input.sk-toggleable__control:checked~label.sk-toggleable__label {background-color: #d4ebff;}#sk-container-id-8 input.sk-hidden--visually {border: 0;clip: rect(1px 1px 1px 1px);clip: rect(1px, 1px, 1px, 1px);height: 1px;margin: -1px;overflow: hidden;padding: 0;position: absolute;width: 1px;}#sk-container-id-8 div.sk-estimator {font-family: monospace;background-color: #f0f8ff;border: 1px dotted black;border-radius: 0.25em;box-sizing: border-box;margin-bottom: 0.5em;}#sk-container-id-8 div.sk-estimator:hover {background-color: #d4ebff;}#sk-container-id-8 div.sk-parallel-item::after {content: \"\";width: 100%;border-bottom: 1px solid gray;flex-grow: 1;}#sk-container-id-8 div.sk-label:hover label.sk-toggleable__label {background-color: #d4ebff;}#sk-container-id-8 div.sk-serial::before {content: \"\";position: absolute;border-left: 1px solid gray;box-sizing: border-box;top: 0;bottom: 0;left: 50%;z-index: 0;}#sk-container-id-8 div.sk-serial {display: flex;flex-direction: column;align-items: center;background-color: white;padding-right: 0.2em;padding-left: 0.2em;position: relative;}#sk-container-id-8 div.sk-item {position: relative;z-index: 1;}#sk-container-id-8 div.sk-parallel {display: flex;align-items: stretch;justify-content: center;background-color: white;position: relative;}#sk-container-id-8 div.sk-item::before, #sk-container-id-8 div.sk-parallel-item::before {content: \"\";position: absolute;border-left: 1px solid gray;box-sizing: border-box;top: 0;bottom: 0;left: 50%;z-index: -1;}#sk-container-id-8 div.sk-parallel-item {display: flex;flex-direction: column;z-index: 1;position: relative;background-color: white;}#sk-container-id-8 div.sk-parallel-item:first-child::after {align-self: flex-end;width: 50%;}#sk-container-id-8 div.sk-parallel-item:last-child::after {align-self: flex-start;width: 50%;}#sk-container-id-8 div.sk-parallel-item:only-child::after {width: 0;}#sk-container-id-8 div.sk-dashed-wrapped {border: 1px dashed gray;margin: 0 0.4em 0.5em 0.4em;box-sizing: border-box;padding-bottom: 0.4em;background-color: white;}#sk-container-id-8 div.sk-label label {font-family: monospace;font-weight: bold;display: inline-block;line-height: 1.2em;}#sk-container-id-8 div.sk-label-container {text-align: center;}#sk-container-id-8 div.sk-container {/* jupyter's `normalize.less` sets `[hidden] { display: none; }` but bootstrap.min.css set `[hidden] { display: none !important; }` so we also need the `!important` here to be able to override the default hidden behavior on the sphinx rendered scikit-learn.org. See: https://github.com/scikit-learn/scikit-learn/issues/21755 */display: inline-block !important;position: relative;}#sk-container-id-8 div.sk-text-repr-fallback {display: none;}</style><div id=\"sk-container-id-8\" class=\"sk-top-container\"><div class=\"sk-text-repr-fallback\"><pre>XGBRegressor(base_score=None, booster=None, callbacks=None,\n",
       "             colsample_bylevel=None, colsample_bynode=None,\n",
       "             colsample_bytree=0.9, early_stopping_rounds=None,\n",
       "             enable_categorical=False, eval_metric=None, feature_types=None,\n",
       "             gamma=None, gpu_id=None, grow_policy=None, importance_type=None,\n",
       "             interaction_constraints=None, learning_rate=0.1, max_bin=None,\n",
       "             max_cat_threshold=None, max_cat_to_onehot=None,\n",
       "             max_delta_step=None, max_depth=5, max_leaves=None,\n",
       "             min_child_weight=None, missing=nan, monotone_constraints=None,\n",
       "             n_estimators=300, n_jobs=None, num_parallel_tree=None,\n",
       "             predictor=None, random_state=None, ...)</pre><b>In a Jupyter environment, please rerun this cell to show the HTML representation or trust the notebook. <br />On GitHub, the HTML representation is unable to render, please try loading this page with nbviewer.org.</b></div><div class=\"sk-container\" hidden><div class=\"sk-item\"><div class=\"sk-estimator sk-toggleable\"><input class=\"sk-toggleable__control sk-hidden--visually\" id=\"sk-estimator-id-8\" type=\"checkbox\" checked><label for=\"sk-estimator-id-8\" class=\"sk-toggleable__label sk-toggleable__label-arrow\">XGBRegressor</label><div class=\"sk-toggleable__content\"><pre>XGBRegressor(base_score=None, booster=None, callbacks=None,\n",
       "             colsample_bylevel=None, colsample_bynode=None,\n",
       "             colsample_bytree=0.9, early_stopping_rounds=None,\n",
       "             enable_categorical=False, eval_metric=None, feature_types=None,\n",
       "             gamma=None, gpu_id=None, grow_policy=None, importance_type=None,\n",
       "             interaction_constraints=None, learning_rate=0.1, max_bin=None,\n",
       "             max_cat_threshold=None, max_cat_to_onehot=None,\n",
       "             max_delta_step=None, max_depth=5, max_leaves=None,\n",
       "             min_child_weight=None, missing=nan, monotone_constraints=None,\n",
       "             n_estimators=300, n_jobs=None, num_parallel_tree=None,\n",
       "             predictor=None, random_state=None, ...)</pre></div></div></div></div></div>"
      ],
      "text/plain": [
       "XGBRegressor(base_score=None, booster=None, callbacks=None,\n",
       "             colsample_bylevel=None, colsample_bynode=None,\n",
       "             colsample_bytree=0.9, early_stopping_rounds=None,\n",
       "             enable_categorical=False, eval_metric=None, feature_types=None,\n",
       "             gamma=None, gpu_id=None, grow_policy=None, importance_type=None,\n",
       "             interaction_constraints=None, learning_rate=0.1, max_bin=None,\n",
       "             max_cat_threshold=None, max_cat_to_onehot=None,\n",
       "             max_delta_step=None, max_depth=5, max_leaves=None,\n",
       "             min_child_weight=None, missing=nan, monotone_constraints=None,\n",
       "             n_estimators=300, n_jobs=None, num_parallel_tree=None,\n",
       "             predictor=None, random_state=None, ...)"
      ]
     },
     "execution_count": 55,
     "metadata": {},
     "output_type": "execute_result"
    }
   ],
   "source": [
    "best_xgb_model= XGBRegressor(colsample_bytree=0.9,learning_rate=0.1,max_depth=5,n_estimators=300,subsample=1.0)\n",
    "best_xgb_model.fit(X_train,y_train)"
   ]
  },
  {
   "cell_type": "code",
   "execution_count": 56,
   "id": "11a3ea7c",
   "metadata": {
    "execution": {
     "iopub.execute_input": "2023-11-29T19:51:40.927781Z",
     "iopub.status.busy": "2023-11-29T19:51:40.926307Z",
     "iopub.status.idle": "2023-11-29T19:51:41.016403Z",
     "shell.execute_reply": "2023-11-29T19:51:41.015427Z"
    },
    "papermill": {
     "duration": 0.128385,
     "end_time": "2023-11-29T19:51:41.018981",
     "exception": false,
     "start_time": "2023-11-29T19:51:40.890596",
     "status": "completed"
    },
    "tags": []
   },
   "outputs": [
    {
     "name": "stdout",
     "output_type": "stream",
     "text": [
      "0.9576617728418819\n"
     ]
    }
   ],
   "source": [
    "best_xgb_pred = best_xgb_model.predict(X_test)\n",
    "print(r2_score(y_test,best_xgb_pred))"
   ]
  },
  {
   "cell_type": "markdown",
   "id": "792a1e0e",
   "metadata": {
    "papermill": {
     "duration": 0.032857,
     "end_time": "2023-11-29T19:51:41.087338",
     "exception": false,
     "start_time": "2023-11-29T19:51:41.054481",
     "status": "completed"
    },
    "tags": []
   },
   "source": [
    "### Since XGBRegressor gives best r2_score, we'll choose that"
   ]
  },
  {
   "cell_type": "markdown",
   "id": "5ac13d6a",
   "metadata": {
    "papermill": {
     "duration": 0.035555,
     "end_time": "2023-11-29T19:51:41.156941",
     "exception": false,
     "start_time": "2023-11-29T19:51:41.121386",
     "status": "completed"
    },
    "tags": []
   },
   "source": [
    "# Finding predictions of data given in test.csv"
   ]
  },
  {
   "cell_type": "code",
   "execution_count": 57,
   "id": "40555975",
   "metadata": {
    "execution": {
     "iopub.execute_input": "2023-11-29T19:51:41.226959Z",
     "iopub.status.busy": "2023-11-29T19:51:41.226474Z",
     "iopub.status.idle": "2023-11-29T19:51:41.349235Z",
     "shell.execute_reply": "2023-11-29T19:51:41.348023Z"
    },
    "papermill": {
     "duration": 0.160827,
     "end_time": "2023-11-29T19:51:41.352326",
     "exception": false,
     "start_time": "2023-11-29T19:51:41.191499",
     "status": "completed"
    },
    "tags": []
   },
   "outputs": [
    {
     "name": "stdout",
     "output_type": "stream",
     "text": [
      "[34.455135 25.7525   15.813098 ... 20.608189 36.02971  17.25323 ]\n"
     ]
    }
   ],
   "source": [
    "validation_y=best_xgb_model.predict(validation_test)\n",
    "print(validation_y)"
   ]
  },
  {
   "cell_type": "markdown",
   "id": "62ab994e",
   "metadata": {
    "papermill": {
     "duration": 0.03341,
     "end_time": "2023-11-29T19:51:41.420196",
     "exception": false,
     "start_time": "2023-11-29T19:51:41.386786",
     "status": "completed"
    },
    "tags": []
   },
   "source": [
    "## Submission of predictions"
   ]
  },
  {
   "cell_type": "code",
   "execution_count": 58,
   "id": "27815557",
   "metadata": {
    "execution": {
     "iopub.execute_input": "2023-11-29T19:51:41.488936Z",
     "iopub.status.busy": "2023-11-29T19:51:41.488390Z",
     "iopub.status.idle": "2023-11-29T19:51:41.499001Z",
     "shell.execute_reply": "2023-11-29T19:51:41.497563Z"
    },
    "papermill": {
     "duration": 0.04846,
     "end_time": "2023-11-29T19:51:41.501829",
     "exception": false,
     "start_time": "2023-11-29T19:51:41.453369",
     "status": "completed"
    },
    "tags": []
   },
   "outputs": [
    {
     "name": "stdout",
     "output_type": "stream",
     "text": [
      "    total_amount\n",
      "1      34.455135\n",
      "2      25.752501\n",
      "3      15.813098\n",
      "4      15.025667\n",
      "5      25.770967\n",
      "6      13.660231\n",
      "7     122.748795\n",
      "8      23.662657\n",
      "9      17.087934\n",
      "10     14.296082\n"
     ]
    }
   ],
   "source": [
    "submission=pd.DataFrame(validation_y,columns=['total_amount'])\n",
    "submission.index = range(1,len(submission)+1)\n",
    "print(submission.head(10))"
   ]
  },
  {
   "cell_type": "code",
   "execution_count": 59,
   "id": "05f2731c",
   "metadata": {
    "execution": {
     "iopub.execute_input": "2023-11-29T19:51:41.571871Z",
     "iopub.status.busy": "2023-11-29T19:51:41.571406Z",
     "iopub.status.idle": "2023-11-29T19:51:41.770991Z",
     "shell.execute_reply": "2023-11-29T19:51:41.769423Z"
    },
    "papermill": {
     "duration": 0.238157,
     "end_time": "2023-11-29T19:51:41.774232",
     "exception": false,
     "start_time": "2023-11-29T19:51:41.536075",
     "status": "completed"
    },
    "tags": []
   },
   "outputs": [],
   "source": [
    "submission.to_csv('/kaggle/working/submission.csv',sep=',',index=True,index_label='ID',encoding='utf-8')"
   ]
  },
  {
   "cell_type": "code",
   "execution_count": 60,
   "id": "93187534",
   "metadata": {
    "execution": {
     "iopub.execute_input": "2023-11-29T19:51:41.843671Z",
     "iopub.status.busy": "2023-11-29T19:51:41.843163Z",
     "iopub.status.idle": "2023-11-29T19:51:41.871727Z",
     "shell.execute_reply": "2023-11-29T19:51:41.870563Z"
    },
    "papermill": {
     "duration": 0.066418,
     "end_time": "2023-11-29T19:51:41.874646",
     "exception": false,
     "start_time": "2023-11-29T19:51:41.808228",
     "status": "completed"
    },
    "tags": []
   },
   "outputs": [
    {
     "name": "stdout",
     "output_type": "stream",
     "text": [
      "   ID  total_amount\n",
      "0   1     34.455135\n",
      "1   2     25.752500\n",
      "2   3     15.813098\n",
      "3   4     15.025667\n",
      "4   5     25.770967\n",
      "5   6     13.660231\n",
      "6   7    122.748795\n",
      "7   8     23.662657\n",
      "8   9     17.087934\n",
      "9  10     14.296082\n"
     ]
    }
   ],
   "source": [
    "submit=pd.read_csv('/kaggle/working/submission.csv')\n",
    "print(submit.head(10))"
   ]
  }
 ],
 "metadata": {
  "kaggle": {
   "accelerator": "none",
   "dataSources": [
    {
     "databundleVersionId": 6604167,
     "sourceId": 61246,
     "sourceType": "competition"
    }
   ],
   "dockerImageVersionId": 30558,
   "isGpuEnabled": false,
   "isInternetEnabled": true,
   "language": "python",
   "sourceType": "notebook"
  },
  "kernelspec": {
   "display_name": "Python 3",
   "language": "python",
   "name": "python3"
  },
  "language_info": {
   "codemirror_mode": {
    "name": "ipython",
    "version": 3
   },
   "file_extension": ".py",
   "mimetype": "text/x-python",
   "name": "python",
   "nbconvert_exporter": "python",
   "pygments_lexer": "ipython3",
   "version": "3.10.12"
  },
  "papermill": {
   "default_parameters": {},
   "duration": 350.391241,
   "end_time": "2023-11-29T19:51:42.936449",
   "environment_variables": {},
   "exception": null,
   "input_path": "__notebook__.ipynb",
   "output_path": "__notebook__.ipynb",
   "parameters": {},
   "start_time": "2023-11-29T19:45:52.545208",
   "version": "2.4.0"
  }
 },
 "nbformat": 4,
 "nbformat_minor": 5
}
